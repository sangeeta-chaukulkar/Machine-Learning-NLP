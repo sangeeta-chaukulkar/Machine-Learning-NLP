{
  "cells": [
    {
      "cell_type": "markdown",
      "metadata": {
        "id": "WtPKZPpFxD6g"
      },
      "source": [
        "# Objective\n",
        "\n",
        "Build a model to automatically predict tags for a given a StackExchange question by using the text of the question.\n",
        "![alt text](https://cdn.sstatic.net/Sites/stackoverflow/company/img/logos/se/se-logo.svg?v=d29f0785ebb7)\n",
        "\n",
        "__Dataset Specs__: Over 85,000 questions\n",
        "\n",
        "__License__\n",
        "\n",
        "All Stack Exchange user contributions are licensed under [CC-BY-SA 3.0](https://creativecommons.org/licenses/by-sa/3.0/) with [attribution required](http://blog.stackoverflow.com/2009/06/attribution-required/).\n",
        "\n",
        "<br>\n",
        "\n",
        "***"
      ]
    },
    {
      "cell_type": "code",
      "execution_count": 1,
      "metadata": {
        "colab": {
          "base_uri": "https://localhost:8080/"
        },
        "id": "L_axH7-PrUFT",
        "outputId": "d073114f-20b4-4961-fbfe-5387fcbe542a"
      },
      "outputs": [
        {
          "output_type": "stream",
          "name": "stdout",
          "text": [
            "Mounted at /content/drive\n"
          ]
        }
      ],
      "source": [
        "# mount Google drive\n",
        "from google.colab import drive\n",
        "drive.mount('/content/drive')"
      ]
    },
    {
      "cell_type": "markdown",
      "metadata": {
        "id": "HfaOlnHpy-Va"
      },
      "source": [
        "# Steps\n",
        "1. Loading Data\n",
        "2. Text Cleaning\n",
        "3. Merge Tags with Questions\n",
        "4. Dataset Preparation\n",
        "5. Feature Engineering using TF-IDF\n",
        "6. Model Building\n",
        "    1. Naive Bayes\n",
        "    2. Logistic Regression\n",
        "    3. Model Building Summary\n",
        "\n",
        "7. Final Question Tagging Pipeline\n",
        "\n"
      ]
    },
    {
      "cell_type": "code",
      "execution_count": 2,
      "metadata": {
        "id": "gitKl0VQbmBN"
      },
      "outputs": [],
      "source": [
        "# Importing Required Libraries\n",
        "\n",
        "# for string matching\n",
        "import re \n",
        "\n",
        "# for handling data\n",
        "import pandas as pd\n",
        "\n",
        "# for numerical computing\n",
        "import numpy as np\n",
        "\n",
        "# for handling html data\n",
        "from bs4 import BeautifulSoup\n",
        "\n",
        "# for NLP related tasks\n",
        "import spacy\n",
        "nlp=spacy.load('en_core_web_sm')"
      ]
    },
    {
      "cell_type": "markdown",
      "metadata": {
        "id": "uVFrjcv4H_pa"
      },
      "source": [
        "# Loading Data"
      ]
    },
    {
      "cell_type": "code",
      "execution_count": 3,
      "metadata": {
        "colab": {
          "base_uri": "https://localhost:8080/",
          "height": 223
        },
        "id": "qLXg0bRfclmw",
        "outputId": "711c7e1c-f16f-4384-b155-1e7f690af563"
      },
      "outputs": [
        {
          "output_type": "stream",
          "name": "stdout",
          "text": [
            "Shape=> (85085, 6)\n"
          ]
        },
        {
          "output_type": "execute_result",
          "data": {
            "text/html": [
              "\n",
              "  <div id=\"df-32a7a2ad-01f3-4e5d-962f-4e0b4b9e26bd\">\n",
              "    <div class=\"colab-df-container\">\n",
              "      <div>\n",
              "<style scoped>\n",
              "    .dataframe tbody tr th:only-of-type {\n",
              "        vertical-align: middle;\n",
              "    }\n",
              "\n",
              "    .dataframe tbody tr th {\n",
              "        vertical-align: top;\n",
              "    }\n",
              "\n",
              "    .dataframe thead th {\n",
              "        text-align: right;\n",
              "    }\n",
              "</style>\n",
              "<table border=\"1\" class=\"dataframe\">\n",
              "  <thead>\n",
              "    <tr style=\"text-align: right;\">\n",
              "      <th></th>\n",
              "      <th>Id</th>\n",
              "      <th>OwnerUserId</th>\n",
              "      <th>CreationDate</th>\n",
              "      <th>Score</th>\n",
              "      <th>Title</th>\n",
              "      <th>Body</th>\n",
              "    </tr>\n",
              "  </thead>\n",
              "  <tbody>\n",
              "    <tr>\n",
              "      <th>0</th>\n",
              "      <td>6</td>\n",
              "      <td>5.0</td>\n",
              "      <td>2010-07-19T19:14:44Z</td>\n",
              "      <td>272</td>\n",
              "      <td>The Two Cultures: statistics vs. machine learn...</td>\n",
              "      <td>&lt;p&gt;Last year, I read a blog post from &lt;a href=...</td>\n",
              "    </tr>\n",
              "    <tr>\n",
              "      <th>1</th>\n",
              "      <td>21</td>\n",
              "      <td>59.0</td>\n",
              "      <td>2010-07-19T19:24:36Z</td>\n",
              "      <td>4</td>\n",
              "      <td>Forecasting demographic census</td>\n",
              "      <td>&lt;p&gt;What are some of the ways to forecast demog...</td>\n",
              "    </tr>\n",
              "    <tr>\n",
              "      <th>2</th>\n",
              "      <td>22</td>\n",
              "      <td>66.0</td>\n",
              "      <td>2010-07-19T19:25:39Z</td>\n",
              "      <td>208</td>\n",
              "      <td>Bayesian and frequentist reasoning in plain En...</td>\n",
              "      <td>&lt;p&gt;How would you describe in plain English the...</td>\n",
              "    </tr>\n",
              "    <tr>\n",
              "      <th>3</th>\n",
              "      <td>31</td>\n",
              "      <td>13.0</td>\n",
              "      <td>2010-07-19T19:28:44Z</td>\n",
              "      <td>138</td>\n",
              "      <td>What is the meaning of p values and t values i...</td>\n",
              "      <td>&lt;p&gt;After taking a statistics course and then t...</td>\n",
              "    </tr>\n",
              "    <tr>\n",
              "      <th>4</th>\n",
              "      <td>36</td>\n",
              "      <td>8.0</td>\n",
              "      <td>2010-07-19T19:31:47Z</td>\n",
              "      <td>58</td>\n",
              "      <td>Examples for teaching: Correlation does not me...</td>\n",
              "      <td>&lt;p&gt;There is an old saying: \"Correlation does n...</td>\n",
              "    </tr>\n",
              "  </tbody>\n",
              "</table>\n",
              "</div>\n",
              "      <button class=\"colab-df-convert\" onclick=\"convertToInteractive('df-32a7a2ad-01f3-4e5d-962f-4e0b4b9e26bd')\"\n",
              "              title=\"Convert this dataframe to an interactive table.\"\n",
              "              style=\"display:none;\">\n",
              "        \n",
              "  <svg xmlns=\"http://www.w3.org/2000/svg\" height=\"24px\"viewBox=\"0 0 24 24\"\n",
              "       width=\"24px\">\n",
              "    <path d=\"M0 0h24v24H0V0z\" fill=\"none\"/>\n",
              "    <path d=\"M18.56 5.44l.94 2.06.94-2.06 2.06-.94-2.06-.94-.94-2.06-.94 2.06-2.06.94zm-11 1L8.5 8.5l.94-2.06 2.06-.94-2.06-.94L8.5 2.5l-.94 2.06-2.06.94zm10 10l.94 2.06.94-2.06 2.06-.94-2.06-.94-.94-2.06-.94 2.06-2.06.94z\"/><path d=\"M17.41 7.96l-1.37-1.37c-.4-.4-.92-.59-1.43-.59-.52 0-1.04.2-1.43.59L10.3 9.45l-7.72 7.72c-.78.78-.78 2.05 0 2.83L4 21.41c.39.39.9.59 1.41.59.51 0 1.02-.2 1.41-.59l7.78-7.78 2.81-2.81c.8-.78.8-2.07 0-2.86zM5.41 20L4 18.59l7.72-7.72 1.47 1.35L5.41 20z\"/>\n",
              "  </svg>\n",
              "      </button>\n",
              "      \n",
              "  <style>\n",
              "    .colab-df-container {\n",
              "      display:flex;\n",
              "      flex-wrap:wrap;\n",
              "      gap: 12px;\n",
              "    }\n",
              "\n",
              "    .colab-df-convert {\n",
              "      background-color: #E8F0FE;\n",
              "      border: none;\n",
              "      border-radius: 50%;\n",
              "      cursor: pointer;\n",
              "      display: none;\n",
              "      fill: #1967D2;\n",
              "      height: 32px;\n",
              "      padding: 0 0 0 0;\n",
              "      width: 32px;\n",
              "    }\n",
              "\n",
              "    .colab-df-convert:hover {\n",
              "      background-color: #E2EBFA;\n",
              "      box-shadow: 0px 1px 2px rgba(60, 64, 67, 0.3), 0px 1px 3px 1px rgba(60, 64, 67, 0.15);\n",
              "      fill: #174EA6;\n",
              "    }\n",
              "\n",
              "    [theme=dark] .colab-df-convert {\n",
              "      background-color: #3B4455;\n",
              "      fill: #D2E3FC;\n",
              "    }\n",
              "\n",
              "    [theme=dark] .colab-df-convert:hover {\n",
              "      background-color: #434B5C;\n",
              "      box-shadow: 0px 1px 3px 1px rgba(0, 0, 0, 0.15);\n",
              "      filter: drop-shadow(0px 1px 2px rgba(0, 0, 0, 0.3));\n",
              "      fill: #FFFFFF;\n",
              "    }\n",
              "  </style>\n",
              "\n",
              "      <script>\n",
              "        const buttonEl =\n",
              "          document.querySelector('#df-32a7a2ad-01f3-4e5d-962f-4e0b4b9e26bd button.colab-df-convert');\n",
              "        buttonEl.style.display =\n",
              "          google.colab.kernel.accessAllowed ? 'block' : 'none';\n",
              "\n",
              "        async function convertToInteractive(key) {\n",
              "          const element = document.querySelector('#df-32a7a2ad-01f3-4e5d-962f-4e0b4b9e26bd');\n",
              "          const dataTable =\n",
              "            await google.colab.kernel.invokeFunction('convertToInteractive',\n",
              "                                                     [key], {});\n",
              "          if (!dataTable) return;\n",
              "\n",
              "          const docLinkHtml = 'Like what you see? Visit the ' +\n",
              "            '<a target=\"_blank\" href=https://colab.research.google.com/notebooks/data_table.ipynb>data table notebook</a>'\n",
              "            + ' to learn more about interactive tables.';\n",
              "          element.innerHTML = '';\n",
              "          dataTable['output_type'] = 'display_data';\n",
              "          await google.colab.output.renderOutput(dataTable, element);\n",
              "          const docLink = document.createElement('div');\n",
              "          docLink.innerHTML = docLinkHtml;\n",
              "          element.appendChild(docLink);\n",
              "        }\n",
              "      </script>\n",
              "    </div>\n",
              "  </div>\n",
              "  "
            ],
            "text/plain": [
              "   Id  ...                                               Body\n",
              "0   6  ...  <p>Last year, I read a blog post from <a href=...\n",
              "1  21  ...  <p>What are some of the ways to forecast demog...\n",
              "2  22  ...  <p>How would you describe in plain English the...\n",
              "3  31  ...  <p>After taking a statistics course and then t...\n",
              "4  36  ...  <p>There is an old saying: \"Correlation does n...\n",
              "\n",
              "[5 rows x 6 columns]"
            ]
          },
          "metadata": {},
          "execution_count": 3
        }
      ],
      "source": [
        "# load questions\n",
        "questions_df = pd.read_csv('/content/drive/MyDrive/Questions.csv',encoding='latin-1')\n",
        "print('Shape=>',questions_df.shape)\n",
        "questions_df.head()"
      ]
    },
    {
      "cell_type": "markdown",
      "metadata": {
        "id": "9w-hQccRCMgY"
      },
      "source": [
        "1. Id: Question ID\n",
        "2. OwnerUserId: User ID\n",
        "3. CreationDate: Date of posting question\n",
        "4. Score: Count of Upvotes received by the question\n",
        "5. Title: Title of the question\n",
        "6. Body: Text body of the question"
      ]
    },
    {
      "cell_type": "code",
      "execution_count": 5,
      "metadata": {
        "colab": {
          "base_uri": "https://localhost:8080/",
          "height": 223
        },
        "id": "xMl53t0hVKej",
        "outputId": "9f6e0f5e-ed86-420a-c24c-173c80cfe191"
      },
      "outputs": [
        {
          "output_type": "stream",
          "name": "stdout",
          "text": [
            "Shape=> (244228, 2)\n"
          ]
        },
        {
          "output_type": "execute_result",
          "data": {
            "text/html": [
              "\n",
              "  <div id=\"df-7f1ad1db-e1b0-401b-bc28-9c6353e7b389\">\n",
              "    <div class=\"colab-df-container\">\n",
              "      <div>\n",
              "<style scoped>\n",
              "    .dataframe tbody tr th:only-of-type {\n",
              "        vertical-align: middle;\n",
              "    }\n",
              "\n",
              "    .dataframe tbody tr th {\n",
              "        vertical-align: top;\n",
              "    }\n",
              "\n",
              "    .dataframe thead th {\n",
              "        text-align: right;\n",
              "    }\n",
              "</style>\n",
              "<table border=\"1\" class=\"dataframe\">\n",
              "  <thead>\n",
              "    <tr style=\"text-align: right;\">\n",
              "      <th></th>\n",
              "      <th>Id</th>\n",
              "      <th>Tag</th>\n",
              "    </tr>\n",
              "  </thead>\n",
              "  <tbody>\n",
              "    <tr>\n",
              "      <th>0</th>\n",
              "      <td>1</td>\n",
              "      <td>bayesian</td>\n",
              "    </tr>\n",
              "    <tr>\n",
              "      <th>1</th>\n",
              "      <td>1</td>\n",
              "      <td>prior</td>\n",
              "    </tr>\n",
              "    <tr>\n",
              "      <th>2</th>\n",
              "      <td>1</td>\n",
              "      <td>elicitation</td>\n",
              "    </tr>\n",
              "    <tr>\n",
              "      <th>3</th>\n",
              "      <td>2</td>\n",
              "      <td>distributions</td>\n",
              "    </tr>\n",
              "    <tr>\n",
              "      <th>4</th>\n",
              "      <td>2</td>\n",
              "      <td>normality</td>\n",
              "    </tr>\n",
              "  </tbody>\n",
              "</table>\n",
              "</div>\n",
              "      <button class=\"colab-df-convert\" onclick=\"convertToInteractive('df-7f1ad1db-e1b0-401b-bc28-9c6353e7b389')\"\n",
              "              title=\"Convert this dataframe to an interactive table.\"\n",
              "              style=\"display:none;\">\n",
              "        \n",
              "  <svg xmlns=\"http://www.w3.org/2000/svg\" height=\"24px\"viewBox=\"0 0 24 24\"\n",
              "       width=\"24px\">\n",
              "    <path d=\"M0 0h24v24H0V0z\" fill=\"none\"/>\n",
              "    <path d=\"M18.56 5.44l.94 2.06.94-2.06 2.06-.94-2.06-.94-.94-2.06-.94 2.06-2.06.94zm-11 1L8.5 8.5l.94-2.06 2.06-.94-2.06-.94L8.5 2.5l-.94 2.06-2.06.94zm10 10l.94 2.06.94-2.06 2.06-.94-2.06-.94-.94-2.06-.94 2.06-2.06.94z\"/><path d=\"M17.41 7.96l-1.37-1.37c-.4-.4-.92-.59-1.43-.59-.52 0-1.04.2-1.43.59L10.3 9.45l-7.72 7.72c-.78.78-.78 2.05 0 2.83L4 21.41c.39.39.9.59 1.41.59.51 0 1.02-.2 1.41-.59l7.78-7.78 2.81-2.81c.8-.78.8-2.07 0-2.86zM5.41 20L4 18.59l7.72-7.72 1.47 1.35L5.41 20z\"/>\n",
              "  </svg>\n",
              "      </button>\n",
              "      \n",
              "  <style>\n",
              "    .colab-df-container {\n",
              "      display:flex;\n",
              "      flex-wrap:wrap;\n",
              "      gap: 12px;\n",
              "    }\n",
              "\n",
              "    .colab-df-convert {\n",
              "      background-color: #E8F0FE;\n",
              "      border: none;\n",
              "      border-radius: 50%;\n",
              "      cursor: pointer;\n",
              "      display: none;\n",
              "      fill: #1967D2;\n",
              "      height: 32px;\n",
              "      padding: 0 0 0 0;\n",
              "      width: 32px;\n",
              "    }\n",
              "\n",
              "    .colab-df-convert:hover {\n",
              "      background-color: #E2EBFA;\n",
              "      box-shadow: 0px 1px 2px rgba(60, 64, 67, 0.3), 0px 1px 3px 1px rgba(60, 64, 67, 0.15);\n",
              "      fill: #174EA6;\n",
              "    }\n",
              "\n",
              "    [theme=dark] .colab-df-convert {\n",
              "      background-color: #3B4455;\n",
              "      fill: #D2E3FC;\n",
              "    }\n",
              "\n",
              "    [theme=dark] .colab-df-convert:hover {\n",
              "      background-color: #434B5C;\n",
              "      box-shadow: 0px 1px 3px 1px rgba(0, 0, 0, 0.15);\n",
              "      filter: drop-shadow(0px 1px 2px rgba(0, 0, 0, 0.3));\n",
              "      fill: #FFFFFF;\n",
              "    }\n",
              "  </style>\n",
              "\n",
              "      <script>\n",
              "        const buttonEl =\n",
              "          document.querySelector('#df-7f1ad1db-e1b0-401b-bc28-9c6353e7b389 button.colab-df-convert');\n",
              "        buttonEl.style.display =\n",
              "          google.colab.kernel.accessAllowed ? 'block' : 'none';\n",
              "\n",
              "        async function convertToInteractive(key) {\n",
              "          const element = document.querySelector('#df-7f1ad1db-e1b0-401b-bc28-9c6353e7b389');\n",
              "          const dataTable =\n",
              "            await google.colab.kernel.invokeFunction('convertToInteractive',\n",
              "                                                     [key], {});\n",
              "          if (!dataTable) return;\n",
              "\n",
              "          const docLinkHtml = 'Like what you see? Visit the ' +\n",
              "            '<a target=\"_blank\" href=https://colab.research.google.com/notebooks/data_table.ipynb>data table notebook</a>'\n",
              "            + ' to learn more about interactive tables.';\n",
              "          element.innerHTML = '';\n",
              "          dataTable['output_type'] = 'display_data';\n",
              "          await google.colab.output.renderOutput(dataTable, element);\n",
              "          const docLink = document.createElement('div');\n",
              "          docLink.innerHTML = docLinkHtml;\n",
              "          element.appendChild(docLink);\n",
              "        }\n",
              "      </script>\n",
              "    </div>\n",
              "  </div>\n",
              "  "
            ],
            "text/plain": [
              "   Id            Tag\n",
              "0   1       bayesian\n",
              "1   1          prior\n",
              "2   1    elicitation\n",
              "3   2  distributions\n",
              "4   2      normality"
            ]
          },
          "metadata": {},
          "execution_count": 5
        }
      ],
      "source": [
        "# load tags\n",
        "tags_df = pd.read_csv('/content/drive/MyDrive/Tags.csv')\n",
        "print('Shape=>',tags_df.shape)\n",
        "tags_df.head()"
      ]
    },
    {
      "cell_type": "markdown",
      "metadata": {
        "id": "siBpKFe3IZNw"
      },
      "source": [
        "# Text Cleaning"
      ]
    },
    {
      "cell_type": "markdown",
      "metadata": {
        "id": "hmeuzAF9Ic1d"
      },
      "source": [
        "Let's define a function to clean the text data."
      ]
    },
    {
      "cell_type": "code",
      "execution_count": 6,
      "metadata": {
        "id": "ADh9l-RWNSDU"
      },
      "outputs": [],
      "source": [
        "def cleaner(text):\n",
        "\n",
        "  # take off html tags\n",
        "  text = BeautifulSoup(text,\"html\").get_text()\n",
        "  \n",
        "  # fetch alphabetic characters\n",
        "  text = re.sub(\"[^a-zA-Z]\", \" \", text)\n",
        "\n",
        "  # convert text to lower case\n",
        "  text = text.lower()\n",
        "  \n",
        "  # removing extra spaces\n",
        "  text=re.sub(\"[\\s]+\",\" \",text)\n",
        "\n",
        "  # creating doc object\n",
        "  doc=nlp(text)\n",
        "\n",
        "  # remove stopwords and lemmatize the text\n",
        "  tokens=[token.lemma_ for token in doc if(token.is_stop==False)]\n",
        "\n",
        "  return \" \".join(tokens)"
      ]
    },
    {
      "cell_type": "code",
      "execution_count": 7,
      "metadata": {
        "id": "o98nUFycNSB-"
      },
      "outputs": [],
      "source": [
        "# Pre-processing Questions\n",
        "questions_df['cleaned_text'] = questions_df['Body'].apply(cleaner)"
      ]
    },
    {
      "cell_type": "code",
      "execution_count": 8,
      "metadata": {
        "colab": {
          "base_uri": "https://localhost:8080/",
          "height": 139
        },
        "id": "umvS_4ZQNR6r",
        "outputId": "e113b71a-7346-47a7-8fc7-65235690f205"
      },
      "outputs": [
        {
          "output_type": "execute_result",
          "data": {
            "application/vnd.google.colaboratory.intrinsic+json": {
              "type": "string"
            },
            "text/plain": [
              "\"<p>What are some of the ways to forecast demographic census with some validation and calibration techniques?</p>\\n\\n<p>Some of the concerns:</p>\\n\\n<ul>\\n<li>Census blocks vary in sizes as rural\\nareas are a lot larger than condensed\\nurban areas. Is there a need to account for the area size difference?</li>\\n<li>if let's say I have census data\\ndating back to 4 - 5 census periods,\\nhow far can i forecast it into the\\nfuture?</li>\\n<li>if some of the census zone change\\nlightly in boundaries, how can i\\naccount for that change?</li>\\n<li>What are the methods to validate\\ncensus forecasts? for example, if i\\nhave data for existing 5 census\\nperiods, should I model the first 3\\nand test it on the latter two? or is\\nthere another way?</li>\\n<li>what's the state of practice in\\nforecasting census data, and what are\\nsome of the state of the art methods?</li>\\n</ul>\\n\""
            ]
          },
          "metadata": {},
          "execution_count": 8
        }
      ],
      "source": [
        "questions_df['Body'][1]"
      ]
    },
    {
      "cell_type": "code",
      "execution_count": 9,
      "metadata": {
        "colab": {
          "base_uri": "https://localhost:8080/",
          "height": 70
        },
        "id": "FoEZ0aQ7KvN2",
        "outputId": "b47523d2-b54e-4ebe-8dec-f5cb88713bd0"
      },
      "outputs": [
        {
          "output_type": "execute_result",
          "data": {
            "application/vnd.google.colaboratory.intrinsic+json": {
              "type": "string"
            },
            "text/plain": [
              "'way forecast demographic census validation calibration technique concern census block vary size rural area lot large condense urban area need account area size difference let s census datum date census period far forecast future census zone change lightly boundary account change method validate census forecast example datum exist census period model test way s state practice forecast census datum state art method'"
            ]
          },
          "metadata": {},
          "execution_count": 9
        }
      ],
      "source": [
        "questions_df['cleaned_text'][1]"
      ]
    },
    {
      "cell_type": "markdown",
      "metadata": {
        "id": "dTPISO70LOM4"
      },
      "source": [
        "# Merge Tags with Questions"
      ]
    },
    {
      "cell_type": "markdown",
      "metadata": {
        "id": "jTXwGw2xKhWk"
      },
      "source": [
        "Let's now explore the tags data."
      ]
    },
    {
      "cell_type": "code",
      "execution_count": 10,
      "metadata": {
        "colab": {
          "base_uri": "https://localhost:8080/",
          "height": 206
        },
        "id": "4p9JAFA9tTxO",
        "outputId": "c48fc870-3e23-47d0-a06a-aa505a2aa47c"
      },
      "outputs": [
        {
          "output_type": "execute_result",
          "data": {
            "text/html": [
              "\n",
              "  <div id=\"df-8072eee4-a911-4387-a54e-6e01fd24c6b4\">\n",
              "    <div class=\"colab-df-container\">\n",
              "      <div>\n",
              "<style scoped>\n",
              "    .dataframe tbody tr th:only-of-type {\n",
              "        vertical-align: middle;\n",
              "    }\n",
              "\n",
              "    .dataframe tbody tr th {\n",
              "        vertical-align: top;\n",
              "    }\n",
              "\n",
              "    .dataframe thead th {\n",
              "        text-align: right;\n",
              "    }\n",
              "</style>\n",
              "<table border=\"1\" class=\"dataframe\">\n",
              "  <thead>\n",
              "    <tr style=\"text-align: right;\">\n",
              "      <th></th>\n",
              "      <th>Id</th>\n",
              "      <th>Tag</th>\n",
              "    </tr>\n",
              "  </thead>\n",
              "  <tbody>\n",
              "    <tr>\n",
              "      <th>0</th>\n",
              "      <td>1</td>\n",
              "      <td>bayesian</td>\n",
              "    </tr>\n",
              "    <tr>\n",
              "      <th>1</th>\n",
              "      <td>1</td>\n",
              "      <td>prior</td>\n",
              "    </tr>\n",
              "    <tr>\n",
              "      <th>2</th>\n",
              "      <td>1</td>\n",
              "      <td>elicitation</td>\n",
              "    </tr>\n",
              "    <tr>\n",
              "      <th>3</th>\n",
              "      <td>2</td>\n",
              "      <td>distributions</td>\n",
              "    </tr>\n",
              "    <tr>\n",
              "      <th>4</th>\n",
              "      <td>2</td>\n",
              "      <td>normality</td>\n",
              "    </tr>\n",
              "  </tbody>\n",
              "</table>\n",
              "</div>\n",
              "      <button class=\"colab-df-convert\" onclick=\"convertToInteractive('df-8072eee4-a911-4387-a54e-6e01fd24c6b4')\"\n",
              "              title=\"Convert this dataframe to an interactive table.\"\n",
              "              style=\"display:none;\">\n",
              "        \n",
              "  <svg xmlns=\"http://www.w3.org/2000/svg\" height=\"24px\"viewBox=\"0 0 24 24\"\n",
              "       width=\"24px\">\n",
              "    <path d=\"M0 0h24v24H0V0z\" fill=\"none\"/>\n",
              "    <path d=\"M18.56 5.44l.94 2.06.94-2.06 2.06-.94-2.06-.94-.94-2.06-.94 2.06-2.06.94zm-11 1L8.5 8.5l.94-2.06 2.06-.94-2.06-.94L8.5 2.5l-.94 2.06-2.06.94zm10 10l.94 2.06.94-2.06 2.06-.94-2.06-.94-.94-2.06-.94 2.06-2.06.94z\"/><path d=\"M17.41 7.96l-1.37-1.37c-.4-.4-.92-.59-1.43-.59-.52 0-1.04.2-1.43.59L10.3 9.45l-7.72 7.72c-.78.78-.78 2.05 0 2.83L4 21.41c.39.39.9.59 1.41.59.51 0 1.02-.2 1.41-.59l7.78-7.78 2.81-2.81c.8-.78.8-2.07 0-2.86zM5.41 20L4 18.59l7.72-7.72 1.47 1.35L5.41 20z\"/>\n",
              "  </svg>\n",
              "      </button>\n",
              "      \n",
              "  <style>\n",
              "    .colab-df-container {\n",
              "      display:flex;\n",
              "      flex-wrap:wrap;\n",
              "      gap: 12px;\n",
              "    }\n",
              "\n",
              "    .colab-df-convert {\n",
              "      background-color: #E8F0FE;\n",
              "      border: none;\n",
              "      border-radius: 50%;\n",
              "      cursor: pointer;\n",
              "      display: none;\n",
              "      fill: #1967D2;\n",
              "      height: 32px;\n",
              "      padding: 0 0 0 0;\n",
              "      width: 32px;\n",
              "    }\n",
              "\n",
              "    .colab-df-convert:hover {\n",
              "      background-color: #E2EBFA;\n",
              "      box-shadow: 0px 1px 2px rgba(60, 64, 67, 0.3), 0px 1px 3px 1px rgba(60, 64, 67, 0.15);\n",
              "      fill: #174EA6;\n",
              "    }\n",
              "\n",
              "    [theme=dark] .colab-df-convert {\n",
              "      background-color: #3B4455;\n",
              "      fill: #D2E3FC;\n",
              "    }\n",
              "\n",
              "    [theme=dark] .colab-df-convert:hover {\n",
              "      background-color: #434B5C;\n",
              "      box-shadow: 0px 1px 3px 1px rgba(0, 0, 0, 0.15);\n",
              "      filter: drop-shadow(0px 1px 2px rgba(0, 0, 0, 0.3));\n",
              "      fill: #FFFFFF;\n",
              "    }\n",
              "  </style>\n",
              "\n",
              "      <script>\n",
              "        const buttonEl =\n",
              "          document.querySelector('#df-8072eee4-a911-4387-a54e-6e01fd24c6b4 button.colab-df-convert');\n",
              "        buttonEl.style.display =\n",
              "          google.colab.kernel.accessAllowed ? 'block' : 'none';\n",
              "\n",
              "        async function convertToInteractive(key) {\n",
              "          const element = document.querySelector('#df-8072eee4-a911-4387-a54e-6e01fd24c6b4');\n",
              "          const dataTable =\n",
              "            await google.colab.kernel.invokeFunction('convertToInteractive',\n",
              "                                                     [key], {});\n",
              "          if (!dataTable) return;\n",
              "\n",
              "          const docLinkHtml = 'Like what you see? Visit the ' +\n",
              "            '<a target=\"_blank\" href=https://colab.research.google.com/notebooks/data_table.ipynb>data table notebook</a>'\n",
              "            + ' to learn more about interactive tables.';\n",
              "          element.innerHTML = '';\n",
              "          dataTable['output_type'] = 'display_data';\n",
              "          await google.colab.output.renderOutput(dataTable, element);\n",
              "          const docLink = document.createElement('div');\n",
              "          docLink.innerHTML = docLinkHtml;\n",
              "          element.appendChild(docLink);\n",
              "        }\n",
              "      </script>\n",
              "    </div>\n",
              "  </div>\n",
              "  "
            ],
            "text/plain": [
              "   Id            Tag\n",
              "0   1       bayesian\n",
              "1   1          prior\n",
              "2   1    elicitation\n",
              "3   2  distributions\n",
              "4   2      normality"
            ]
          },
          "metadata": {},
          "execution_count": 10
        }
      ],
      "source": [
        "tags_df.head()"
      ]
    },
    {
      "cell_type": "code",
      "execution_count": 11,
      "metadata": {
        "colab": {
          "base_uri": "https://localhost:8080/"
        },
        "id": "rVGubRcWe01J",
        "outputId": "ecfecc05-0be8-4945-83b7-fd3e1a88d80a"
      },
      "outputs": [
        {
          "output_type": "execute_result",
          "data": {
            "text/plain": [
              "1315"
            ]
          },
          "metadata": {},
          "execution_count": 11
        }
      ],
      "source": [
        "# count of unique tags\n",
        "len(tags_df['Tag'].unique())"
      ]
    },
    {
      "cell_type": "code",
      "execution_count": 12,
      "metadata": {
        "colab": {
          "base_uri": "https://localhost:8080/"
        },
        "id": "ZqW5nBknesV-",
        "outputId": "5e0b41d8-d81d-4a2a-e534-cd834453de2e"
      },
      "outputs": [
        {
          "output_type": "execute_result",
          "data": {
            "text/plain": [
              "r                            13236\n",
              "regression                   10959\n",
              "machine-learning              6089\n",
              "time-series                   5559\n",
              "probability                   4217\n",
              "                             ...  \n",
              "gmm                              1\n",
              "matconvnet                       1\n",
              "mcar                             1\n",
              "hierarchical-softmax             1\n",
              "american-community-survey        1\n",
              "Name: Tag, Length: 1315, dtype: int64"
            ]
          },
          "metadata": {},
          "execution_count": 12
        }
      ],
      "source": [
        "tags_df['Tag'].value_counts()"
      ]
    },
    {
      "cell_type": "code",
      "execution_count": 13,
      "metadata": {
        "id": "3SEjB4OwiJ0b"
      },
      "outputs": [],
      "source": [
        "# remove \"-\" from the tags\n",
        "tags_df['Tag']= tags_df['Tag'].apply(lambda x:re.sub(\"-\",\" \",x))"
      ]
    },
    {
      "cell_type": "code",
      "execution_count": 14,
      "metadata": {
        "colab": {
          "base_uri": "https://localhost:8080/",
          "height": 206
        },
        "id": "MhPvTj6ytcW0",
        "outputId": "ff1184dc-f141-4c66-f03a-f148ef6962df"
      },
      "outputs": [
        {
          "output_type": "execute_result",
          "data": {
            "text/html": [
              "\n",
              "  <div id=\"df-23f452c1-690e-4369-8748-4232d618898b\">\n",
              "    <div class=\"colab-df-container\">\n",
              "      <div>\n",
              "<style scoped>\n",
              "    .dataframe tbody tr th:only-of-type {\n",
              "        vertical-align: middle;\n",
              "    }\n",
              "\n",
              "    .dataframe tbody tr th {\n",
              "        vertical-align: top;\n",
              "    }\n",
              "\n",
              "    .dataframe thead th {\n",
              "        text-align: right;\n",
              "    }\n",
              "</style>\n",
              "<table border=\"1\" class=\"dataframe\">\n",
              "  <thead>\n",
              "    <tr style=\"text-align: right;\">\n",
              "      <th></th>\n",
              "      <th>Id</th>\n",
              "      <th>tags</th>\n",
              "    </tr>\n",
              "  </thead>\n",
              "  <tbody>\n",
              "    <tr>\n",
              "      <th>0</th>\n",
              "      <td>1</td>\n",
              "      <td>[bayesian, prior, elicitation]</td>\n",
              "    </tr>\n",
              "    <tr>\n",
              "      <th>1</th>\n",
              "      <td>2</td>\n",
              "      <td>[distributions, normality]</td>\n",
              "    </tr>\n",
              "    <tr>\n",
              "      <th>2</th>\n",
              "      <td>3</td>\n",
              "      <td>[software, open source]</td>\n",
              "    </tr>\n",
              "    <tr>\n",
              "      <th>3</th>\n",
              "      <td>4</td>\n",
              "      <td>[distributions, statistical significance]</td>\n",
              "    </tr>\n",
              "    <tr>\n",
              "      <th>4</th>\n",
              "      <td>6</td>\n",
              "      <td>[machine learning]</td>\n",
              "    </tr>\n",
              "  </tbody>\n",
              "</table>\n",
              "</div>\n",
              "      <button class=\"colab-df-convert\" onclick=\"convertToInteractive('df-23f452c1-690e-4369-8748-4232d618898b')\"\n",
              "              title=\"Convert this dataframe to an interactive table.\"\n",
              "              style=\"display:none;\">\n",
              "        \n",
              "  <svg xmlns=\"http://www.w3.org/2000/svg\" height=\"24px\"viewBox=\"0 0 24 24\"\n",
              "       width=\"24px\">\n",
              "    <path d=\"M0 0h24v24H0V0z\" fill=\"none\"/>\n",
              "    <path d=\"M18.56 5.44l.94 2.06.94-2.06 2.06-.94-2.06-.94-.94-2.06-.94 2.06-2.06.94zm-11 1L8.5 8.5l.94-2.06 2.06-.94-2.06-.94L8.5 2.5l-.94 2.06-2.06.94zm10 10l.94 2.06.94-2.06 2.06-.94-2.06-.94-.94-2.06-.94 2.06-2.06.94z\"/><path d=\"M17.41 7.96l-1.37-1.37c-.4-.4-.92-.59-1.43-.59-.52 0-1.04.2-1.43.59L10.3 9.45l-7.72 7.72c-.78.78-.78 2.05 0 2.83L4 21.41c.39.39.9.59 1.41.59.51 0 1.02-.2 1.41-.59l7.78-7.78 2.81-2.81c.8-.78.8-2.07 0-2.86zM5.41 20L4 18.59l7.72-7.72 1.47 1.35L5.41 20z\"/>\n",
              "  </svg>\n",
              "      </button>\n",
              "      \n",
              "  <style>\n",
              "    .colab-df-container {\n",
              "      display:flex;\n",
              "      flex-wrap:wrap;\n",
              "      gap: 12px;\n",
              "    }\n",
              "\n",
              "    .colab-df-convert {\n",
              "      background-color: #E8F0FE;\n",
              "      border: none;\n",
              "      border-radius: 50%;\n",
              "      cursor: pointer;\n",
              "      display: none;\n",
              "      fill: #1967D2;\n",
              "      height: 32px;\n",
              "      padding: 0 0 0 0;\n",
              "      width: 32px;\n",
              "    }\n",
              "\n",
              "    .colab-df-convert:hover {\n",
              "      background-color: #E2EBFA;\n",
              "      box-shadow: 0px 1px 2px rgba(60, 64, 67, 0.3), 0px 1px 3px 1px rgba(60, 64, 67, 0.15);\n",
              "      fill: #174EA6;\n",
              "    }\n",
              "\n",
              "    [theme=dark] .colab-df-convert {\n",
              "      background-color: #3B4455;\n",
              "      fill: #D2E3FC;\n",
              "    }\n",
              "\n",
              "    [theme=dark] .colab-df-convert:hover {\n",
              "      background-color: #434B5C;\n",
              "      box-shadow: 0px 1px 3px 1px rgba(0, 0, 0, 0.15);\n",
              "      filter: drop-shadow(0px 1px 2px rgba(0, 0, 0, 0.3));\n",
              "      fill: #FFFFFF;\n",
              "    }\n",
              "  </style>\n",
              "\n",
              "      <script>\n",
              "        const buttonEl =\n",
              "          document.querySelector('#df-23f452c1-690e-4369-8748-4232d618898b button.colab-df-convert');\n",
              "        buttonEl.style.display =\n",
              "          google.colab.kernel.accessAllowed ? 'block' : 'none';\n",
              "\n",
              "        async function convertToInteractive(key) {\n",
              "          const element = document.querySelector('#df-23f452c1-690e-4369-8748-4232d618898b');\n",
              "          const dataTable =\n",
              "            await google.colab.kernel.invokeFunction('convertToInteractive',\n",
              "                                                     [key], {});\n",
              "          if (!dataTable) return;\n",
              "\n",
              "          const docLinkHtml = 'Like what you see? Visit the ' +\n",
              "            '<a target=\"_blank\" href=https://colab.research.google.com/notebooks/data_table.ipynb>data table notebook</a>'\n",
              "            + ' to learn more about interactive tables.';\n",
              "          element.innerHTML = '';\n",
              "          dataTable['output_type'] = 'display_data';\n",
              "          await google.colab.output.renderOutput(dataTable, element);\n",
              "          const docLink = document.createElement('div');\n",
              "          docLink.innerHTML = docLinkHtml;\n",
              "          element.appendChild(docLink);\n",
              "        }\n",
              "      </script>\n",
              "    </div>\n",
              "  </div>\n",
              "  "
            ],
            "text/plain": [
              "   Id                                       tags\n",
              "0   1             [bayesian, prior, elicitation]\n",
              "1   2                 [distributions, normality]\n",
              "2   3                    [software, open source]\n",
              "3   4  [distributions, statistical significance]\n",
              "4   6                         [machine learning]"
            ]
          },
          "metadata": {},
          "execution_count": 14
        }
      ],
      "source": [
        "# group tags Id wise\n",
        "tags_df = tags_df.groupby('Id').apply(lambda x:x['Tag'].values).reset_index(name='tags')\n",
        "tags_df.head()"
      ]
    },
    {
      "cell_type": "code",
      "execution_count": 15,
      "metadata": {
        "id": "zCnEKm1ouTnm"
      },
      "outputs": [],
      "source": [
        "# merge tags and questions\n",
        "df = pd.merge(questions_df,tags_df,how='inner',on='Id')"
      ]
    },
    {
      "cell_type": "code",
      "execution_count": 16,
      "metadata": {
        "colab": {
          "base_uri": "https://localhost:8080/",
          "height": 223
        },
        "id": "fn37BQ5TusSt",
        "outputId": "c4fffde8-1b99-4a72-f862-1faa139c648a"
      },
      "outputs": [
        {
          "output_type": "stream",
          "name": "stdout",
          "text": [
            "Shape=> (85085, 4)\n"
          ]
        },
        {
          "output_type": "execute_result",
          "data": {
            "text/html": [
              "\n",
              "  <div id=\"df-f472ae70-6d38-4f7c-936e-5ff59bec61d5\">\n",
              "    <div class=\"colab-df-container\">\n",
              "      <div>\n",
              "<style scoped>\n",
              "    .dataframe tbody tr th:only-of-type {\n",
              "        vertical-align: middle;\n",
              "    }\n",
              "\n",
              "    .dataframe tbody tr th {\n",
              "        vertical-align: top;\n",
              "    }\n",
              "\n",
              "    .dataframe thead th {\n",
              "        text-align: right;\n",
              "    }\n",
              "</style>\n",
              "<table border=\"1\" class=\"dataframe\">\n",
              "  <thead>\n",
              "    <tr style=\"text-align: right;\">\n",
              "      <th></th>\n",
              "      <th>Id</th>\n",
              "      <th>Body</th>\n",
              "      <th>cleaned_text</th>\n",
              "      <th>tags</th>\n",
              "    </tr>\n",
              "  </thead>\n",
              "  <tbody>\n",
              "    <tr>\n",
              "      <th>0</th>\n",
              "      <td>6</td>\n",
              "      <td>&lt;p&gt;Last year, I read a blog post from &lt;a href=...</td>\n",
              "      <td>year read blog post brendan o connor entitled ...</td>\n",
              "      <td>[machine learning]</td>\n",
              "    </tr>\n",
              "    <tr>\n",
              "      <th>1</th>\n",
              "      <td>21</td>\n",
              "      <td>&lt;p&gt;What are some of the ways to forecast demog...</td>\n",
              "      <td>way forecast demographic census validation cal...</td>\n",
              "      <td>[forecasting, population, census]</td>\n",
              "    </tr>\n",
              "    <tr>\n",
              "      <th>2</th>\n",
              "      <td>22</td>\n",
              "      <td>&lt;p&gt;How would you describe in plain English the...</td>\n",
              "      <td>describe plain english characteristic distingu...</td>\n",
              "      <td>[bayesian, frequentist]</td>\n",
              "    </tr>\n",
              "    <tr>\n",
              "      <th>3</th>\n",
              "      <td>31</td>\n",
              "      <td>&lt;p&gt;After taking a statistics course and then t...</td>\n",
              "      <td>take statistic course try help fellow student ...</td>\n",
              "      <td>[hypothesis testing, t test, p value, interpre...</td>\n",
              "    </tr>\n",
              "    <tr>\n",
              "      <th>4</th>\n",
              "      <td>36</td>\n",
              "      <td>&lt;p&gt;There is an old saying: \"Correlation does n...</td>\n",
              "      <td>old say correlation mean causation teach tend ...</td>\n",
              "      <td>[correlation, teaching]</td>\n",
              "    </tr>\n",
              "  </tbody>\n",
              "</table>\n",
              "</div>\n",
              "      <button class=\"colab-df-convert\" onclick=\"convertToInteractive('df-f472ae70-6d38-4f7c-936e-5ff59bec61d5')\"\n",
              "              title=\"Convert this dataframe to an interactive table.\"\n",
              "              style=\"display:none;\">\n",
              "        \n",
              "  <svg xmlns=\"http://www.w3.org/2000/svg\" height=\"24px\"viewBox=\"0 0 24 24\"\n",
              "       width=\"24px\">\n",
              "    <path d=\"M0 0h24v24H0V0z\" fill=\"none\"/>\n",
              "    <path d=\"M18.56 5.44l.94 2.06.94-2.06 2.06-.94-2.06-.94-.94-2.06-.94 2.06-2.06.94zm-11 1L8.5 8.5l.94-2.06 2.06-.94-2.06-.94L8.5 2.5l-.94 2.06-2.06.94zm10 10l.94 2.06.94-2.06 2.06-.94-2.06-.94-.94-2.06-.94 2.06-2.06.94z\"/><path d=\"M17.41 7.96l-1.37-1.37c-.4-.4-.92-.59-1.43-.59-.52 0-1.04.2-1.43.59L10.3 9.45l-7.72 7.72c-.78.78-.78 2.05 0 2.83L4 21.41c.39.39.9.59 1.41.59.51 0 1.02-.2 1.41-.59l7.78-7.78 2.81-2.81c.8-.78.8-2.07 0-2.86zM5.41 20L4 18.59l7.72-7.72 1.47 1.35L5.41 20z\"/>\n",
              "  </svg>\n",
              "      </button>\n",
              "      \n",
              "  <style>\n",
              "    .colab-df-container {\n",
              "      display:flex;\n",
              "      flex-wrap:wrap;\n",
              "      gap: 12px;\n",
              "    }\n",
              "\n",
              "    .colab-df-convert {\n",
              "      background-color: #E8F0FE;\n",
              "      border: none;\n",
              "      border-radius: 50%;\n",
              "      cursor: pointer;\n",
              "      display: none;\n",
              "      fill: #1967D2;\n",
              "      height: 32px;\n",
              "      padding: 0 0 0 0;\n",
              "      width: 32px;\n",
              "    }\n",
              "\n",
              "    .colab-df-convert:hover {\n",
              "      background-color: #E2EBFA;\n",
              "      box-shadow: 0px 1px 2px rgba(60, 64, 67, 0.3), 0px 1px 3px 1px rgba(60, 64, 67, 0.15);\n",
              "      fill: #174EA6;\n",
              "    }\n",
              "\n",
              "    [theme=dark] .colab-df-convert {\n",
              "      background-color: #3B4455;\n",
              "      fill: #D2E3FC;\n",
              "    }\n",
              "\n",
              "    [theme=dark] .colab-df-convert:hover {\n",
              "      background-color: #434B5C;\n",
              "      box-shadow: 0px 1px 3px 1px rgba(0, 0, 0, 0.15);\n",
              "      filter: drop-shadow(0px 1px 2px rgba(0, 0, 0, 0.3));\n",
              "      fill: #FFFFFF;\n",
              "    }\n",
              "  </style>\n",
              "\n",
              "      <script>\n",
              "        const buttonEl =\n",
              "          document.querySelector('#df-f472ae70-6d38-4f7c-936e-5ff59bec61d5 button.colab-df-convert');\n",
              "        buttonEl.style.display =\n",
              "          google.colab.kernel.accessAllowed ? 'block' : 'none';\n",
              "\n",
              "        async function convertToInteractive(key) {\n",
              "          const element = document.querySelector('#df-f472ae70-6d38-4f7c-936e-5ff59bec61d5');\n",
              "          const dataTable =\n",
              "            await google.colab.kernel.invokeFunction('convertToInteractive',\n",
              "                                                     [key], {});\n",
              "          if (!dataTable) return;\n",
              "\n",
              "          const docLinkHtml = 'Like what you see? Visit the ' +\n",
              "            '<a target=\"_blank\" href=https://colab.research.google.com/notebooks/data_table.ipynb>data table notebook</a>'\n",
              "            + ' to learn more about interactive tables.';\n",
              "          element.innerHTML = '';\n",
              "          dataTable['output_type'] = 'display_data';\n",
              "          await google.colab.output.renderOutput(dataTable, element);\n",
              "          const docLink = document.createElement('div');\n",
              "          docLink.innerHTML = docLinkHtml;\n",
              "          element.appendChild(docLink);\n",
              "        }\n",
              "      </script>\n",
              "    </div>\n",
              "  </div>\n",
              "  "
            ],
            "text/plain": [
              "   Id  ...                                               tags\n",
              "0   6  ...                                 [machine learning]\n",
              "1  21  ...                  [forecasting, population, census]\n",
              "2  22  ...                            [bayesian, frequentist]\n",
              "3  31  ...  [hypothesis testing, t test, p value, interpre...\n",
              "4  36  ...                            [correlation, teaching]\n",
              "\n",
              "[5 rows x 4 columns]"
            ]
          },
          "metadata": {},
          "execution_count": 16
        }
      ],
      "source": [
        "df = df[['Id','Body','cleaned_text','tags']]\n",
        "print('Shape=>',df.shape)\n",
        "df.head()"
      ]
    },
    {
      "cell_type": "markdown",
      "metadata": {
        "id": "YV6KXBw1MRyY"
      },
      "source": [
        "There are over 85,000 unique questions and over 1300 tags."
      ]
    },
    {
      "cell_type": "markdown",
      "metadata": {
        "id": "c_22ook_MiRv"
      },
      "source": [
        "# Dataset Preparation"
      ]
    },
    {
      "cell_type": "code",
      "execution_count": 17,
      "metadata": {
        "id": "3uj_0l0jwL3f"
      },
      "outputs": [],
      "source": [
        "# check frequency of occurence of each tag\n",
        "freq= {}\n",
        "for i in df['tags']:\n",
        "  for j in i:\n",
        "    if j in freq.keys():\n",
        "      freq[j] = freq[j] + 1\n",
        "    else:\n",
        "      freq[j] = 1"
      ]
    },
    {
      "cell_type": "markdown",
      "metadata": {
        "id": "CUDiameNNhPh"
      },
      "source": [
        "Let's find out the most frequent tags."
      ]
    },
    {
      "cell_type": "code",
      "execution_count": 18,
      "metadata": {
        "id": "WOzWyGfLzli9"
      },
      "outputs": [],
      "source": [
        "# sort the dictionary in descending order\n",
        "freq = dict(sorted(freq.items(), key=lambda x:x[1],reverse=True))"
      ]
    },
    {
      "cell_type": "code",
      "execution_count": 19,
      "metadata": {
        "colab": {
          "base_uri": "https://localhost:8080/"
        },
        "id": "vKcagvyi0Wfk",
        "outputId": "1df332c2-fac4-4311-b5aa-37e0b87c344a"
      },
      "outputs": [
        {
          "output_type": "execute_result",
          "data": {
            "text/plain": [
              "dict_items([('r', 13236), ('regression', 10959), ('machine learning', 6089), ('time series', 5559), ('probability', 4217), ('hypothesis testing', 3869), ('self study', 3732), ('distributions', 3501), ('logistic', 3316), ('classification', 2881), ('correlation', 2871), ('statistical significance', 2666), ('bayesian', 2656), ('anova', 2505), ('normal distribution', 2181), ('multiple regression', 2054), ('mixed model', 1998), ('clustering', 1952), ('neural networks', 1897), ('mathematical statistics', 1888), ('confidence interval', 1776), ('categorical data', 1703), ('generalized linear model', 1614), ('variance', 1576), ('data visualization', 1549), ('estimation', 1533), ('forecasting', 1422), ('t test', 1418), ('pca', 1395), ('sampling', 1363), ('cross validation', 1344), ('repeated measures', 1335), ('spss', 1296), ('svm', 1283), ('chi squared', 1261), ('maximum likelihood', 1209), ('predictive models', 1189), ('multivariate analysis', 1116), ('survival', 1081), ('references', 1076), ('data transformation', 1057), ('modeling', 1055), ('p value', 1040), ('feature selection', 997), ('econometrics', 989), ('panel data', 966), ('python', 955), ('data mining', 950), ('interaction', 946), ('matlab', 941), ('linear model', 937), ('binomial', 935), ('random forest', 935), ('nonparametric', 922), ('arima', 917), ('least squares', 898), ('optimization', 898), ('model selection', 876), ('standard deviation', 866), ('poisson', 865), ('interpretation', 860), ('sample size', 847), ('mean', 842), ('stata', 842), ('dataset', 840), ('conditional probability', 837), ('prediction', 832), ('multiple comparisons', 825), ('bootstrap', 814), ('experiment design', 780), ('random variable', 745), ('autocorrelation', 678), ('simulation', 676), ('covariance', 666), ('multilevel analysis', 663), ('pdf', 654), ('missing data', 652), ('expected value', 645), ('regression coefficients', 643), ('factor analysis', 642), ('mcmc', 635), ('outliers', 629), ('standard error', 629), ('inference', 625), ('ordinal', 624), ('survey', 617), ('deep learning', 600), ('cart', 593), ('residuals', 582), ('binary data', 570), ('random effects model', 569), ('goodness of fit', 567), ('model', 567), ('terminology', 551), ('stochastic processes', 530), ('nonlinear regression', 514), ('cox model', 510), ('monte carlo', 504), ('proportion', 503), ('algorithms', 500), ('sas', 496), ('lasso', 490), ('normalization', 484), ('heteroscedasticity', 483), ('error', 481), ('independence', 480), ('meta analysis', 480), ('multinomial', 480), ('k means', 465), ('lmer', 463), ('sample', 450), ('markov process', 445), ('scikit learn', 440), ('multicollinearity', 438), ('text mining', 432), ('aic', 431), ('descriptive statistics', 430), ('spatial', 429), ('assumptions', 418), ('matrix', 413), ('likelihood', 407), ('dimensionality reduction', 407), ('sem', 405), ('bias', 396), ('fixed effects model', 391), ('effect size', 375), ('logit', 374), ('r squared', 372), ('normality', 371), ('lme4', 371), ('convergence', 370), ('likert', 366), ('power analysis', 365), ('glmm', 359), ('negative binomial', 358), ('roc', 358), ('fitting', 357), ('computational statistics', 348), ('count data', 347), ('random generation', 345), ('prior', 340), ('summary statistics', 338), ('ranking', 338), ('stationarity', 337), ('natural language', 335), ('covariance matrix', 332), ('skewness', 325), ('kernel trick', 321), ('gamma distribution', 319), ('naive bayes', 318), ('continuous data', 317), ('regularization', 317), ('hidden markov model', 314), ('reliability', 314), ('power', 312), ('gaussian process', 310), ('group differences', 309), ('autoregressive', 307), ('biostatistics', 306), ('distance', 304), ('garch', 302), ('ancova', 300), ('causality', 300), ('standardization', 300), ('validation', 296), ('small sample', 295), ('exponential', 295), ('quantiles', 293), ('posterior', 291), ('var', 289), ('curve fitting', 288), ('post hoc', 284), ('kernel smoothing', 284), ('robust', 282), ('average', 277), ('gradient descent', 277), ('odds ratio', 275), ('lognormal', 275), ('median', 273), ('bayes', 273), ('seasonality', 270), ('expectation maximization', 270), ('uniform', 268), ('cointegration', 268), ('large data', 266), ('kolmogorov smirnov', 266), ('wilcoxon', 266), ('discrete data', 266), ('conv neural network', 264), ('gaussian mixture', 261), ('histogram', 260), ('non independent', 259), ('entropy', 259), ('pearson', 258), ('excel', 257), ('trend', 256), ('linear', 256), ('arma', 255), ('contingency tables', 253), ('joint distribution', 253), ('pattern recognition', 253), ('manova', 252), ('cdf', 250), ('scales', 248), ('unbalanced classes', 247), ('conditional expectation', 245), ('unbiased estimator', 245), ('mixture', 244), ('measurement error', 243), ('mann whitney u test', 242), ('boosting', 240), ('likelihood ratio', 238), ('data imputation', 238), ('hierarchical bayesian', 237), ('k nearest neighbour', 236), ('central limit theorem', 236), ('asymptotics', 236), ('discriminant analysis', 234), ('caret', 233), ('poisson regression', 233), ('unsupervised learning', 232), ('paired comparisons', 232), ('accuracy', 231), ('permutation', 231), ('graphical model', 231), ('psychometrics', 228), ('ridge regression', 228), ('instrumental variables', 227), ('image processing', 227), ('probit', 226), ('basic concepts', 226), ('similarities', 225), ('multiple imputation', 223), ('distance functions', 222), ('population', 219), ('overfitting', 217), ('predictor', 215), ('gibbs', 215), ('information theory', 212), ('recommender system', 206), ('feature construction', 206), ('estimators', 205), ('degrees of freedom', 205), ('glmnet', 202), ('jags', 201), ('finance', 200), ('gam', 199), ('epidemiology', 198), ('beta distribution', 198), ('proof', 198), ('moments', 198), ('notation', 196), ('linear algebra', 193), ('model comparison', 193), ('bayesian network', 192), ('nonlinear', 191), ('smoothing', 191), ('supervised learning', 191), ('approximation', 187), ('prediction interval', 185), ('cross correlation', 185), ('lme', 183), ('nested', 183), ('svd', 182), ('kalman filter', 180), ('fishers exact', 180), ('bernoulli distribution', 179), ('precision recall', 178), ('libsvm', 177), ('gee', 177), ('measurement', 177), ('latent variable', 177), ('loss functions', 176), ('contrasts', 176), ('zero inflation', 174), ('frequency', 174), ('splines', 173), ('logarithm', 172), ('t distribution', 172), ('auc', 172), ('censoring', 172), ('unit root', 172), ('resampling', 171), ('kruskal wallis', 170), ('intuition', 168), ('uncertainty', 165), ('order statistics', 165), ('hazard', 162), ('regression strategies', 162), ('mediation', 162), ('f test', 162), ('weka', 162), ('graph theory', 160), ('ensemble', 159), ('confirmatory factor', 157), ('definition', 156), ('glmer', 156), ('parametric', 155), ('copula', 155), ('combinatorics', 155), ('polynomial', 154), ('lm', 153), ('performance', 153), ('marginal', 153), ('software', 151), ('signal processing', 151), ('mutual information', 150), ('weighted regression', 150), ('propensity scores', 148), ('bonferroni', 148), ('multi class', 148), ('matching', 147), ('reinforcement learning', 145), ('diagnostic', 145), ('frequentist', 144), ('non stationary', 144), ('methodology', 142), ('genetics', 141), ('pymc', 141), ('dirichlet distribution', 140), ('bic', 139), ('stepwise regression', 139), ('metropolis hastings', 138), ('gbm', 138), ('analysis', 138), ('theory', 137), ('kullback leibler', 137), ('eigenvalues', 136), ('intraclass correlation', 135), ('inter rater', 134), ('paired data', 134), ('difference in difference', 133), ('metric', 132), ('hierarchical', 132), ('error propagation', 131), ('scatterplot', 131), ('multivariate regression', 131), ('interpolation', 130), ('quantile regression', 130), ('multidimensional scaling', 130), ('aggregation', 128), ('mse', 128), ('reporting', 128), ('hierarchical clustering', 128), ('weibull', 128), ('qq plot', 127), ('multivariate normal', 127), ('parameterization', 126), ('train', 126), ('change point', 125), ('irt', 124), ('matrix decomposition', 123), ('sparse', 123), ('topic models', 123), ('bioinformatics', 123), ('bivariate', 122), ('decision theory', 121), ('exponential smoothing', 121), ('lags', 120), ('backpropagation', 120), ('kurtosis', 120), ('poisson process', 119), ('state space models', 119), ('percentage', 119), ('randomization', 119), ('endogeneity', 118), ('ratio', 117), ('weighted mean', 116), ('z test', 116), ('eda', 116), ('spearman', 116), ('exponential family', 115), ('confidence', 115), ('nlme', 114), ('statistical learning', 114), ('probability inequalities', 114), ('false discovery rate', 113), ('networks', 112), ('convolution', 112), ('markov chain', 111), ('extreme value', 111), ('clinical trials', 110), ('autoencoders', 110), ('generalized least squares', 110), ('pls', 109), ('ecology', 109), ('boxplot', 109), ('hyperparameter', 109), ('sums of squares', 109), ('stratification', 109), ('learning', 108), ('teaching', 107), ('ab test', 107), ('conjugate prior', 106), ('sufficient statistics', 106), ('confounding', 106), ('consistency', 106), ('treatment effect', 105), ('ggplot2', 105), ('covariate', 104), ('bugs', 102), ('computer vision', 102), ('online', 100), ('coefficient', 99), ('randomness', 99), ('games', 98), ('granger causality', 98), ('weighted sampling', 98), ('kaplan meier', 97), ('high dimensional', 97), ('elastic net', 97), ('threshold', 96), ('sample mean', 94), ('lstm', 94), ('augmented dickey fuller', 94), ('fisher information', 94), ('rms', 93), ('pooling', 92), ('time varying covariate', 92), ('rpart', 92), ('spearman rho', 92), ('vecm', 92), ('hypergeometric', 92), ('moving average', 92), ('bounds', 92), ('maximum', 91), ('scores', 91), ('fourier transform', 90), ('integral', 90), ('overdispersion', 90), ('scipy', 90), ('type i errors', 90), ('power law', 89), ('residual analysis', 89), ('mathematics', 88), ('deviance', 88), ('binning', 88), ('interval', 87), ('psychology', 87), ('tukey hsd', 87), ('calibration', 87), ('rank correlation', 87), ('nominal', 86), ('intercept', 86), ('model evaluation', 86), ('information retrieval', 85), ('cross section', 85), ('partial correlation', 84), ('dice', 84), ('lme4 nlme', 84), ('z score', 84), ('genetic algorithms', 82), ('truncation', 81), ('partitioning', 81), ('weighted data', 81), ('quality control', 81), ('kappa', 81), ('importance', 80), ('log linear', 79), ('empirical', 79), ('function', 79), ('parameter optimization', 78), ('data preprocessing', 78), ('generalized moments', 77), ('association rules', 77), ('rnn', 77), ('social network', 77), ('sensitivity', 76), ('point estimation', 76), ('bagging', 76), ('matrix inverse', 76), ('java', 75), ('cohens d', 75), ('spectral analysis', 75), ('risk', 75), ('odds', 75), ('out of sample', 74), ('history', 74), ('association measure', 74), ('quadratic form', 74), ('random walk', 74), ('sequence analysis', 74), ('rbm', 74), ('filter', 74), ('centering', 73), ('control', 73), ('clustered standard errors', 73), ('link function', 73), ('maximum entropy', 73), ('deep belief networks', 72), ('artificial intelligence', 72), ('dirichlet process', 72), ('rare events', 72), ('validity', 71), ('mode', 71), ('confusion matrix', 71), ('meta regression', 71), ('pareto distribution', 70), ('winbugs', 70), ('observational study', 70), ('point process', 70), ('method comparison', 69), ('cluster sample', 68), ('circular statistics', 68), ('case control study', 68), ('segmentation', 68), ('shrinkage', 68), ('sequential analysis', 67), ('mcnemar test', 67), ('scoring', 67), ('kendall tau', 67), ('intervention analysis', 67), ('2sls', 66), ('fisher', 65), ('tobit regression', 65), ('loess', 65), ('volatility forecasting', 64), ('mgcv', 64), ('ranks', 64), ('beta binomial', 63), ('dynamic regression', 63), ('inferential statistics', 63), ('stan', 63), ('mice', 62), ('delta method', 62), ('rating', 62), ('iid', 61), ('moderation', 61), ('correspondence analysis', 61), ('anomaly detection', 61), ('method of moments', 61), ('equivalence', 61), ('relative risk', 61), ('hausman', 60), ('euclidean', 60), ('marketing', 60), ('noise', 60), ('minimum', 60), ('efficiency', 60), ('ordered logit', 60), ('numerical integration', 60), ('beta regression', 59), ('identifiability', 59), ('structural change', 59), ('geostatistics', 58), ('vif', 58), ('signal detection', 58), ('derivative', 58), ('traminer', 57), ('variational bayes', 57), ('tensorflow', 57), ('growth model', 57), ('coefficient of variation', 57), ('subset', 56), ('canonical correlation', 56), ('offset', 56), ('latent class', 56), ('spatio temporal', 55), ('multilabel', 55), ('adjustment', 55), ('cronbachs alpha', 55), ('white noise', 54), ('queueing', 54), ('credible interval', 54), ('composite', 53), ('philosophical', 53), ('statsmodels', 52), ('perceptron', 52), ('variogram', 52), ('statistical', 51), ('importance sampling', 51), ('variability', 51), ('mgf', 51), ('nls', 50), ('penalized', 50), ('numerics', 50), ('self organizing maps', 50), ('weights', 50), ('word2vec', 50), ('lsa', 49), ('finite population', 49), ('particle filter', 49), ('amos', 49), ('nonparametric bayes', 49), ('sensitivity analysis', 48), ('specificity', 48), ('education', 48), ('wishart', 48), ('levenes test', 48), ('gradient', 48), ('geometric distribution', 47), ('eviews', 47), ('lsmeans', 47), ('fuzzy', 47), ('density estimation', 46), ('minitab', 46), ('type ii errors', 46), ('robust standard error', 46), ('agreement statistics', 46), ('path model', 46), ('multivariable', 45), ('combining p values', 45), ('model based clustering', 45), ('programming', 45), ('arithmetic', 45), ('word embeddings', 44), ('geometry', 44), ('replication', 44), ('split plot', 44), ('gini', 44), ('microarray', 44), ('blocking', 44), ('rejection sampling', 43), ('macroeconomics', 43), ('constrained regression', 43), ('log likelihood', 43), ('multiarmed bandit', 42), ('code', 42), ('change scores', 42), ('imbalanced', 42), ('brownian', 42), ('clogit', 42), ('conjoint analysis', 42), ('univariate', 42), ('mixed design', 42), ('arch', 41), ('lavaan', 41), ('application', 41), ('jmp', 41), ('conditioning', 41), ('communication', 40), ('z statistic', 40), ('barplot', 40), ('semi supervised', 40), ('measure theory', 40), ('summations', 40), ('data cleaning', 40), ('tables', 39), ('impulse response', 39), ('demography', 39), ('generative models', 39), ('f distribution', 39), ('functional data analysis', 38), ('dlm', 38), ('sentiment analysis', 38), ('curves', 38), ('reproducible research', 38), ('c++', 38), ('back transformation', 38), ('logrank', 37), ('fat tails', 37), ('survey weights', 37), ('umvue', 37), ('mlogit', 37), ('package', 37), ('friedman test', 37), ('plm', 37), ('wavelet', 37), ('fractional factorial', 37), ('uninformative prior', 35), ('cauchy', 35), ('law of large numbers', 35), ('kriging', 35), ('marginal effect', 35), ('signed rank test', 34), ('lars', 34), ('bias correction', 34), ('mathematica', 34), ('formula', 34), ('ica', 34), ('valuation', 33), ('discontinuity', 33), ('projection', 33), ('multiple seasonalities', 33), ('hauck donner effect', 33), ('cosine similarity', 33), ('rotation', 33), ('census', 32), ('heterogeneity', 32), ('dendrogram', 32), ('biplot', 32), ('cholesky', 32), ('radial basis', 32), ('interval censoring', 32), ('error message', 31), ('careers', 31), ('crossover study', 31), ('numpy', 31), ('softmax', 31), ('rule of thumb', 31), ('real time', 31), ('f statistic', 31), ('mplus', 31), ('two way', 31), ('factor rotation', 31), ('anderson darling', 31), ('ecdf', 31), ('web', 31), ('parallel computing', 30), ('piecewise linear', 30), ('igraph', 30), ('oversampling', 30), ('range', 30), ('adaboost', 30), ('dataframe', 30), ('test for trend', 30), ('random matrix', 30), ('dispersion', 30), ('inverse gamma', 29), ('laplace distribution', 29), ('jaccard similarity', 29), ('e1071', 29), ('effects', 29), ('computing', 29), ('business intelligence', 29), ('incidence rate ratio', 29), ('bayes factors', 29), ('heavy tailed', 29), ('errors in variables', 29), ('heckman', 28), ('neyman pearson lemma', 28), ('transition matrix', 28), ('quasi likelihood', 28), ('discriminant', 28), ('model averaging', 28), ('frailty', 28), ('sphericity', 28), ('chemometrics', 28), ('statistical control', 28), ('constraint', 28), ('scale invariance', 28), ('stacking', 27), ('optimal scaling', 27), ('vc dimension', 27), ('social science', 27), ('k medoids', 27), ('moving window', 27), ('indicator variables', 27), ('tolerance interval', 26), ('poisson binomial', 26), ('conditional random field', 26), ('non response', 26), ('correlated predictors', 26), ('nnet', 26), ('apriori', 26), ('spark mllib', 26), ('tbats', 26), ('chow test', 26), ('segmented regression', 26), ('coding', 25), ('total least squares', 25), ('profile likelihood', 25), ('theano', 25), ('interaction variable', 25), ('control chart', 25), ('truncated normal', 25), ('mad', 25), ('cosine distance', 25), ('information', 24), ('big data', 24), ('partial', 24), ('concordance', 24), ('jackknife', 24), ('dropout', 24), ('rapidminer', 24), ('units', 24), ('churn', 24), ('qualitative', 24), ('survey sampling', 24), ('precision', 24), ('trimmed mean', 24), ('time complexity', 23), ('correlation matrix', 23), ('probabilistic programming', 23), ('ecm', 23), ('repeatability', 23), ('leverage', 23), ('subsampling', 23), ('funnel plot', 23), ('convex', 23), ('dunn test', 23), ('jeffreys prior', 23), ('kde', 23), ('sql', 23), ('gumbel', 23), ('characteristic function', 23), ('age', 23), ('representative', 23), ('bimodal', 22), ('skew normal', 22), ('compositional data', 22), ('presentation', 22), ('neuroscience', 22), ('pandas', 22), ('interactive visualization', 22), ('neweywest', 22), ('integration', 22), ('causalimpact', 21), ('finite mixture model', 21), ('non central', 21), ('synthetic data', 21), ('paradox', 21), ('ergodic', 21), ('zero inflated', 21), ('capture mark recapture', 21), ('events', 21), ('sequential pattern mining', 21), ('two step estimation', 21), ('choice', 21), ('geometric mean', 21), ('neuroimaging', 21), ('martingale', 20), ('symmetry', 20), ('c#', 20), ('deming regression', 20), ('optimal stopping', 20), ('publication bias', 20), ('familywise error', 20), ('simpsons paradox', 20), ('interarrival time', 20), ('multivariate distribution', 20), ('taylor series', 20), ('hotelling', 20), ('failure', 20), ('average precision', 20), ('cost maximization', 20), ('determinant', 20), ('project management', 20), ('mancova', 20), ('polling', 19), ('nonparametric regression', 19), ('language models', 19), ('matplotlib', 19), ('compression', 19), ('coverage probability', 19), ('abc', 19), ('competing risks', 19), ('singular', 19), ('bernoulli process', 19), ('fraud', 19), ('box jenkins', 19), ('nnmf', 19), ('decomposition', 19), ('xgboost', 19), ('standard', 19), ('cross entropy', 19), ('elasticity', 19), ('database', 18), ('operations research', 18), ('variance decomposition', 18), ('phylogeny', 18), ('scoring rules', 18), ('hessian', 18), ('differences', 18), ('tsne', 18), ('zipf', 18), ('pivot', 17), ('non nested', 17), ('data association', 17), ('cfa', 17), ('directional statistics', 17), ('overlapping data', 17), ('steins phenomenon', 17), ('recurrent events', 17), ('sign test', 17), ('heatmap', 17), ('planned comparisons test', 17), ('fisher transform', 17), ('academia', 17), ('dbscan', 17), ('tost', 17), ('proportional hazards', 16), ('underdispersion', 16), ('open bugs', 16), ('manifold learning', 16), ('fuzzy set', 16), ('one class', 16), ('linearity', 16), ('coupon collector problem', 16), ('sandwich', 16), ('mape', 16), ('cramers v', 16), ('reml', 16), ('index decomposition', 15), ('gis', 15), ('inequality', 15), ('rbf network', 15), ('heuristic', 15), ('gamm4', 15), ('lrt', 15), ('matrix calculus', 15), ('dependence', 15), ('climate', 15), ('extrapolation', 15), ('rasch', 15), ('dag', 15), ('fractal', 15), ('exact test', 15), ('mortality', 15), ('differential equations', 15), ('transform', 14), ('data generating process', 14), ('bland altman plot', 14), ('stochastic approximation', 14), ('elections', 14), ('collaborative', 14), ('homogeneity', 14), ('suppressor', 14), ('sgd', 14), ('recursive model', 14), ('interquartile', 14), ('geography', 14), ('gwas', 14), ('rayleigh', 14), ('relative distribution', 14), ('viterbi algorithm', 14), ('pie chart', 14), ('birthday paradox', 13), ('semiparametric', 13), ('nonlinearity', 13), ('breusch pagan', 13), ('discussion', 13), ('jacobian', 13), ('benchmark', 13), ('latent semantic indexing', 13), ('underdetermined', 13), ('explanatory', 13), ('skellam', 13), ('pcoa', 13), ('game theory', 13), ('quasi binomial', 13), ('distance covariance', 13), ('cochran mantel haenszel', 13), ('open source', 12), ('q learning', 12), ('nonparametric density', 12), ('statistical bias', 12), ('markov random field', 12), ('library', 12), ('invariance', 12), ('journals', 12), ('gamlss', 12), ('order', 12), ('inverse gaussian distrib', 12), ('cochran q', 12), ('two sample', 12), ('case cohort', 12), ('error in variables', 12), ('novelty detection', 12), ('mean shift', 12), ('growth mixture model', 12), ('checking', 12), ('quasi monte carlo', 11), ('search theory', 11), ('information geometry', 11), ('latex', 11), ('partial plot', 11), ('regression to the mean', 11), ('mars', 11), ('automatic algorithms', 11), ('l moments', 11), ('nltk', 11), ('vector fields', 11), ('labeling', 11), ('linear dynamical system', 11), ('dependent', 11), ('systematic', 11), ('mase', 11), ('spurious correlation', 11), ('network meta analysis', 11), ('environmental data', 11), ('latin hypercube', 11), ('point mass at zero', 11), ('medicine', 11), ('mae', 10), ('disease', 10), ('optimal', 10), ('discrete time', 10), ('twin', 10), ('politics', 10), ('blue', 10), ('yates correction', 10), ('bradley terry model', 10), ('contrast', 10), ('baum welch', 10), ('expectation', 10), ('condition number', 10), ('modularity', 10), ('irls', 10), ('minimax', 10), ('counterbalancing', 10), ('dyadic data', 10), ('topologies', 10), ('javascript', 10), ('armax', 10), ('local statistics', 10), ('tweedie distribution', 10), ('bayesian optimization', 10), ('sur', 10), ('pre training', 10), ('gambling', 10), ('minimum variance', 10), ('torch', 10), ('gretl', 10), ('rao blackwell', 10), ('science', 9), ('life expectancy', 9), ('csv file', 9), ('vowpal wabbit', 9), ('belief propagation', 9), ('puzzle', 9), ('rocr', 9), ('scale construction', 9), ('approximate inference', 9), ('car', 9), ('poker', 9), ('sweave', 9), ('ordered probit', 9), ('starting values', 9), ('variance stabilizing', 9), ('scale estimator', 9), ('scalability', 9), ('glmmlasso', 9), ('party', 9), ('elo', 9), ('down sample', 9), ('active learning', 9), ('ward', 9), ('multitask learning', 9), ('population average', 9), ('linear programming', 9), ('schoenfeld residuals', 9), ('products', 9), ('crostons method', 9), ('separability', 9), ('pareto', 9), ('permutation test', 8), ('elicitation', 8), ('randomized', 8), ('moment', 8), ('julia', 8), ('absolute risk', 8), ('item analysis', 8), ('score function', 8), ('tf idf', 8), ('parallel analysis', 8), ('knowledge discovery', 8), ('spatial interaction model', 8), ('shape', 8), ('ruby', 8), ('explanatory models', 8), ('multinomial logit', 8), ('fallacy', 8), ('partykit', 8), ('probability calculus', 8), ('sigma algebra', 8), ('in sample', 8), ('marginal model', 8), ('statistics in media', 8), ('nlmer', 8), ('latin square', 8), ('internet', 8), ('logic', 8), ('mfcc', 8), ('prediction limit', 8), ('numerical models', 8), ('diffusion', 8), ('inverse cdf', 8), ('pmml', 8), ('pivot table', 7), ('treatment', 7), ('enrichment', 7), ('batch normalization', 7), ('saddlepoint approximation', 7), ('non inferiority', 7), ('probability generating fn', 7), ('contextual bandit', 7), ('max margin', 7), ('hac', 7), ('visual summary', 7), ('reduced rank regression', 7), ('lifetable', 7), ('chemistry', 7), ('runs', 7), ('identification', 7), ('lilliefors', 7), ('polr', 7), ('replicate', 7), ('courses', 7), ('gllamm', 7), ('combinatorial', 7), ('etymology', 7), ('hosmer lemeshow test', 7), ('musical data analysis', 6), ('mixed distribution', 6), ('lorenz curve', 6), ('likelihood ratio test', 6), ('astronomy', 6), ('isotonic', 6), ('phd', 6), ('ellipse', 6), ('restrictions', 6), ('missing value', 6), ('untagged', 6), ('stochastic ordering', 6), ('simultaneous equation', 6), ('fiducial', 6), ('population ecology', 6), ('blup', 6), ('gpower', 6), ('bayes optimal classifier', 6), ('structured svm', 6), ('value of information', 6), ('community wiki', 6), ('adagrad', 6), ('php', 6), ('coda', 6), ('gnuplot', 6), ('admissibility', 6), ('pruning', 6), ('bayesian score', 5), ('derived distributions', 5), ('regression testing', 5), ('engineering statistics', 5), ('voting system', 5), ('hotelling t2', 5), ('normalizing constant', 5), ('exchangeability', 5), ('spss modeler', 5), ('domain adaptation', 5), ('rlm', 5), ('information extraction', 5), ('circular', 5), ('diagnosis', 5), ('deterministic', 5), ('gamboost', 5), ('normal approximation', 5), ('bessels correction', 5), ('reproducibility', 5), ('google spreadsheet', 5), ('extremal dependence', 5), ('m estimation', 5), ('casella berger', 5), ('absolute deviation', 5), ('cv.glm', 5), ('cumulants', 5), ('fisher scoring', 5), ('monitoring', 4), ('logarithmic series', 4), ('combining estimates', 4), ('transportation', 4), ('design based inference', 4), ('forecastability', 4), ('conferences', 4), ('polychoric', 4), ('smallareaestimation', 4), ('forward backward', 4), ('disaggregation', 4), ('d prime', 4), ('splus', 4), ('gui', 4), ('named entity recognition', 4), ('gru', 4), ('pybrain', 4), ('differential privacy', 4), ('double blind', 4), ('improper prior', 4), ('structured prediction', 4), ('abbreviation', 4), ('calc', 4), ('combining predictions', 4), ('orthogonal', 4), ('anosim', 4), ('ronald fisher', 4), ('general additive model', 4), ('dropconnect', 4), ('multiple membership', 4), ('tensor', 4), ('hmc', 4), ('quotation', 4), ('bias node', 4), ('consulting', 4), ('compartmental models', 4), ('algebraic statistics', 3), ('auxiliary variable', 3), ('multicore', 3), ('unit information prior', 3), ('dplyr', 3), ('cooccurrence', 3), ('slutsky theorem', 3), ('infinite variance', 3), ('gpu', 3), ('frequency severity', 3), ('rademacher complexity', 3), ('perl', 3), ('clara', 3), ('subject specific', 3), ('sigmoid', 3), ('example', 3), ('multinomial probit', 3), ('nnt', 3), ('empirical likelihood', 3), ('log loss', 3), ('rounding', 3), ('collecting data', 3), ('chi distribution', 3), ('complete statistics', 3), ('dunnett', 3), ('kolmogorov axioms', 3), ('np', 3), ('generalized eta squared', 3), ('ancillary statistics', 3), ('intractable likelihood', 3), ('optunity', 3), ('fortran', 3), ('systematic review', 3), ('reversible jump', 3), ('timelines', 3), ('nadaraya watson', 3), ('crossover', 3), ('humor', 2), ('concavity', 2), ('geomarketing', 2), ('plyr', 2), ('regularity', 2), ('referee', 2), ('generator', 2), ('rough sets', 2), ('rhadoop', 2), ('add one smoothing', 2), ('theta method', 2), ('factorisation theorem', 2), ('xorshift', 2), ('legal', 2), ('risk difference', 2), ('oracle', 2), ('automatic differentiation', 2), ('ipf', 2), ('model checking', 2), ('lyapunov exponent', 2), ('tweedie', 2), ('wald estimator', 2), ('toeplitz', 2), ('qr', 2), ('cubic', 2), ('duan smearing', 2), ('dic', 2), ('pitch game', 2), ('shortest half', 2), ('transfer learning', 2), ('statistical theory', 2), ('volatility', 2), ('potts model', 2), ('calculus', 2), ('als', 2), ('bag of words', 2), ('approximate randomization', 2), ('drug', 2), ('therapy', 2), ('evolutionary algorithms', 2), ('rmr', 2), ('variance test', 2), ('test equating', 2), ('characterization', 2), ('2d', 1), ('protovis', 1), ('pspp', 1), ('qsar', 1), ('netflix prize', 1), ('bnlearn', 1), ('bayesian anova', 1), ('inliers', 1), ('auxiliary particle filter', 1), ('hierarchical softmax', 1), ('law of total expectation', 1), ('langevin diffusion', 1), ('quartile', 1), ('segmented', 1), ('svmlibsm', 1), ('fused lasso', 1), ('gmm', 1), ('american community survey', 1), ('mechanism design', 1), ('representation learning', 1), ('propensity', 1), ('mcar', 1), ('combining models', 1), ('leave one out', 1), ('gmmboost', 1), ('dimensions', 1), ('fda', 1), ('corpus linguistics', 1), ('pit', 1), ('mboost', 1), ('memm', 1), ('fmincon', 1), ('capability certification', 1), ('mean deviation', 1), ('mean absolute deviation', 1), ('doc2vec', 1), ('network layout', 1), ('shapley value', 1), ('adversarial boosting', 1), ('sympy', 1), ('matconvnet', 1), ('negative results', 1), ('hawkes', 1), ('retrospective', 1), ('ram', 1), ('replicability', 1), ('efficacy', 1), ('bands', 1), ('concept drift', 1), ('clumping', 1), ('markov logic network', 1)])"
            ]
          },
          "metadata": {},
          "execution_count": 19
        }
      ],
      "source": [
        "freq.items()"
      ]
    },
    {
      "cell_type": "code",
      "execution_count": 21,
      "metadata": {
        "colab": {
          "base_uri": "https://localhost:8080/"
        },
        "id": "1PQMi8WIv0_u",
        "outputId": "4760bf85-b8cc-47ce-c1d9-4117059098e0"
      },
      "outputs": [
        {
          "output_type": "execute_result",
          "data": {
            "text/plain": [
              "['r',\n",
              " 'regression',\n",
              " 'machine learning',\n",
              " 'time series',\n",
              " 'probability',\n",
              " 'hypothesis testing',\n",
              " 'self study',\n",
              " 'distributions',\n",
              " 'logistic',\n",
              " 'classification',\n",
              " 'correlation',\n",
              " 'statistical significance',\n",
              " 'bayesian',\n",
              " 'anova',\n",
              " 'normal distribution',\n",
              " 'multiple regression',\n",
              " 'mixed model',\n",
              " 'clustering',\n",
              " 'neural networks',\n",
              " 'mathematical statistics']"
            ]
          },
          "metadata": {},
          "execution_count": 21
        }
      ],
      "source": [
        "# Top 20 most frequent tags\n",
        "common_tags = list(freq.keys())[:20]\n",
        "common_tags"
      ]
    },
    {
      "cell_type": "markdown",
      "metadata": {
        "id": "buPS2OrlN50F"
      },
      "source": [
        "We will use only those questions/queries that have the above 20 tags associated with it."
      ]
    },
    {
      "cell_type": "code",
      "execution_count": 22,
      "metadata": {
        "id": "CVB3DKppym51"
      },
      "outputs": [],
      "source": [
        "x=[]\n",
        "y=[]\n",
        "\n",
        "for i in range(len(df['tags'])):\n",
        "  \n",
        "  temp=[]\n",
        "  for j in df['tags'][i]:\n",
        "    if j in common_tags:\n",
        "      temp.append(j)\n",
        "\n",
        "  if(len(temp)>1):\n",
        "    x.append(df['cleaned_text'][i])\n",
        "    y.append(temp)"
      ]
    },
    {
      "cell_type": "code",
      "execution_count": 23,
      "metadata": {
        "colab": {
          "base_uri": "https://localhost:8080/"
        },
        "id": "fYMxubGzzN7Q",
        "outputId": "cd5b5ce6-9a39-4b5d-eba0-0657500a6456"
      },
      "outputs": [
        {
          "output_type": "execute_result",
          "data": {
            "text/plain": [
              "19689"
            ]
          },
          "metadata": {},
          "execution_count": 23
        }
      ],
      "source": [
        "# number of questions left\n",
        "len(x)"
      ]
    },
    {
      "cell_type": "code",
      "execution_count": 26,
      "metadata": {
        "colab": {
          "base_uri": "https://localhost:8080/"
        },
        "id": "pzCk5T-KR-W5",
        "outputId": "e992f1af-2484-4ab0-ebe1-39c0d8d9f968"
      },
      "outputs": [
        {
          "output_type": "execute_result",
          "data": {
            "text/plain": [
              "(19689, 20)"
            ]
          },
          "metadata": {},
          "execution_count": 26
        }
      ],
      "source": [
        "from sklearn.preprocessing import MultiLabelBinarizer\n",
        "mlb = MultiLabelBinarizer()\n",
        "\n",
        "# Getting Labels \n",
        "y = mlb.fit_transform(y)\n",
        "y.shape"
      ]
    },
    {
      "cell_type": "code",
      "execution_count": 27,
      "metadata": {
        "colab": {
          "base_uri": "https://localhost:8080/"
        },
        "id": "eJxESqMJSEKZ",
        "outputId": "7422da23-a05f-43af-dac3-e70892eeb4d5"
      },
      "outputs": [
        {
          "output_type": "execute_result",
          "data": {
            "text/plain": [
              "array([0, 0, 0, 0, 0, 0, 0, 0, 0, 0, 0, 0, 0, 0, 0, 1, 0, 0, 0, 1])"
            ]
          },
          "metadata": {},
          "execution_count": 27
        }
      ],
      "source": [
        "y[0,:]"
      ]
    },
    {
      "cell_type": "code",
      "execution_count": 28,
      "metadata": {
        "colab": {
          "base_uri": "https://localhost:8080/"
        },
        "id": "YZHXV-GqSg3s",
        "outputId": "5c1473a5-d0fb-4abe-d5bd-ef1f65a803fd"
      },
      "outputs": [
        {
          "output_type": "execute_result",
          "data": {
            "text/plain": [
              "array(['anova', 'bayesian', 'classification', 'clustering', 'correlation',\n",
              "       'distributions', 'hypothesis testing', 'logistic',\n",
              "       'machine learning', 'mathematical statistics', 'mixed model',\n",
              "       'multiple regression', 'neural networks', 'normal distribution',\n",
              "       'probability', 'r', 'regression', 'self study',\n",
              "       'statistical significance', 'time series'], dtype=object)"
            ]
          },
          "metadata": {},
          "execution_count": 28
        }
      ],
      "source": [
        "mlb.classes_"
      ]
    },
    {
      "cell_type": "markdown",
      "metadata": {
        "id": "WkF4pDaJStjg"
      },
      "source": [
        "We can now split the dataset into training set and validation set. "
      ]
    },
    {
      "cell_type": "code",
      "execution_count": 29,
      "metadata": {
        "id": "QPHeAiS9KvD9"
      },
      "outputs": [],
      "source": [
        "from sklearn.model_selection import train_test_split\n",
        "x_tr,x_val,y_tr,y_val=train_test_split(x, y, test_size=0.2, random_state=0,shuffle=True)"
      ]
    },
    {
      "cell_type": "code",
      "execution_count": 30,
      "metadata": {
        "colab": {
          "base_uri": "https://localhost:8080/"
        },
        "id": "EYuUB6Gbv1tF",
        "outputId": "f1ee3e2b-9297-4f7d-b2b8-27a09d3a2319"
      },
      "outputs": [
        {
          "output_type": "stream",
          "name": "stdout",
          "text": [
            "x_tr: 15751 y_tr: 15751\n",
            "x_val: 3938 y_val: 3938\n"
          ]
        }
      ],
      "source": [
        "print('x_tr:',len(x_tr),'y_tr:',len(y_tr))\n",
        "print('x_val:',len(x_val),'y_val:',len(y_val))"
      ]
    },
    {
      "cell_type": "markdown",
      "metadata": {
        "id": "H4GaDNwtTmPh"
      },
      "source": [
        "# Feature Engineering using TF-IDF"
      ]
    },
    {
      "cell_type": "code",
      "execution_count": 31,
      "metadata": {
        "id": "nH-Ahkvfg_qG"
      },
      "outputs": [],
      "source": [
        "from sklearn.feature_extraction.text import TfidfVectorizer"
      ]
    },
    {
      "cell_type": "code",
      "execution_count": 32,
      "metadata": {
        "id": "rPsT8G_TmYHv"
      },
      "outputs": [],
      "source": [
        "# initialize TFIDF\n",
        "word_vectorizer = TfidfVectorizer(max_features=5000)"
      ]
    },
    {
      "cell_type": "code",
      "execution_count": 33,
      "metadata": {
        "colab": {
          "base_uri": "https://localhost:8080/"
        },
        "id": "yCrKvqQNpJJj",
        "outputId": "c164f4e0-5a24-469b-a937-ece0d6458d86"
      },
      "outputs": [
        {
          "output_type": "execute_result",
          "data": {
            "text/plain": [
              "TfidfVectorizer(max_features=5000)"
            ]
          },
          "metadata": {},
          "execution_count": 33
        }
      ],
      "source": [
        "# Fitting Vectorizer on Train set\n",
        "word_vectorizer.fit(x_tr)"
      ]
    },
    {
      "cell_type": "code",
      "execution_count": 34,
      "metadata": {
        "id": "Zb9FEJ9wvjzj"
      },
      "outputs": [],
      "source": [
        "# create TF-IDF vectors for Train Set\n",
        "train_word_features = word_vectorizer.transform(x_tr)"
      ]
    },
    {
      "cell_type": "code",
      "execution_count": 35,
      "metadata": {
        "colab": {
          "base_uri": "https://localhost:8080/"
        },
        "id": "fmMsHVw_vuKW",
        "outputId": "76b6de60-6dc7-47d8-b16b-1487d203e549"
      },
      "outputs": [
        {
          "output_type": "execute_result",
          "data": {
            "text/plain": [
              "<15751x5000 sparse matrix of type '<class 'numpy.float64'>'\n",
              "\twith 702662 stored elements in Compressed Sparse Row format>"
            ]
          },
          "metadata": {},
          "execution_count": 35
        }
      ],
      "source": [
        "train_word_features"
      ]
    },
    {
      "cell_type": "code",
      "execution_count": 36,
      "metadata": {
        "colab": {
          "base_uri": "https://localhost:8080/"
        },
        "id": "T5Qlbj03vxDs",
        "outputId": "0940df8b-597e-47a6-d0bb-20b578fdfbfb"
      },
      "outputs": [
        {
          "output_type": "execute_result",
          "data": {
            "text/plain": [
              "<3938x5000 sparse matrix of type '<class 'numpy.float64'>'\n",
              "\twith 173367 stored elements in Compressed Sparse Row format>"
            ]
          },
          "metadata": {},
          "execution_count": 36
        }
      ],
      "source": [
        "# create TF-IDF vectors for Test Set\n",
        "test_word_features = word_vectorizer.transform(x_val)\n",
        "test_word_features"
      ]
    },
    {
      "cell_type": "markdown",
      "metadata": {
        "id": "0zWqQ2LHxV6e"
      },
      "source": [
        "# Model Building"
      ]
    },
    {
      "cell_type": "markdown",
      "metadata": {
        "id": "4hzbN1gU0qF2"
      },
      "source": [
        "## Naive Bayes"
      ]
    },
    {
      "cell_type": "code",
      "execution_count": 37,
      "metadata": {
        "id": "vwMmqBBrxK2Q"
      },
      "outputs": [],
      "source": [
        "# Importing for modeling\n",
        "from sklearn.multiclass import OneVsRestClassifier\n",
        "from sklearn.naive_bayes import MultinomialNB\n",
        "from sklearn.metrics import f1_score"
      ]
    },
    {
      "cell_type": "code",
      "execution_count": 38,
      "metadata": {
        "id": "VvXuSs760sHu"
      },
      "outputs": [],
      "source": [
        "# Defining Model\n",
        "nb_model=OneVsRestClassifier(MultinomialNB())"
      ]
    },
    {
      "cell_type": "code",
      "execution_count": 39,
      "metadata": {
        "colab": {
          "base_uri": "https://localhost:8080/"
        },
        "id": "Cu94CO-C05MN",
        "outputId": "db82e88a-a6c5-4156-c23c-dc3b337c1f49"
      },
      "outputs": [
        {
          "output_type": "execute_result",
          "data": {
            "text/plain": [
              "OneVsRestClassifier(estimator=MultinomialNB())"
            ]
          },
          "metadata": {},
          "execution_count": 39
        }
      ],
      "source": [
        "# Training Model\n",
        "nb_model.fit(train_word_features,y_tr)"
      ]
    },
    {
      "cell_type": "code",
      "execution_count": 40,
      "metadata": {
        "id": "wsamkMAO1Hpx"
      },
      "outputs": [],
      "source": [
        "# Make predictions for train set\n",
        "train_pred_nb=nb_model.predict_proba(train_word_features)"
      ]
    },
    {
      "cell_type": "code",
      "execution_count": 41,
      "metadata": {
        "colab": {
          "base_uri": "https://localhost:8080/"
        },
        "id": "2Lwk-adE27vB",
        "outputId": "715855bc-3315-41b6-d5be-cb18789ae090"
      },
      "outputs": [
        {
          "output_type": "execute_result",
          "data": {
            "text/plain": [
              "array([[1.02437139e-02, 5.76674670e-03, 3.96562972e-03, 6.34662625e-03,\n",
              "        2.73760331e-02, 5.40371722e-03, 2.77042415e-02, 9.48605255e-03,\n",
              "        2.28828855e-02, 8.03994194e-03, 1.24810683e-02, 1.63038916e-02,\n",
              "        4.68594572e-03, 2.52561149e-03, 9.83704682e-03, 7.16014907e-01,\n",
              "        2.27452298e-01, 1.79155861e-02, 2.60858612e-02, 9.87267383e-01],\n",
              "       [1.90195560e-02, 5.64104337e-03, 5.11723906e-02, 1.18906514e-02,\n",
              "        8.77914652e-03, 6.00480550e-03, 1.87623159e-02, 5.30565809e-02,\n",
              "        2.85461797e-01, 3.33650360e-03, 1.06823692e-02, 9.24720664e-03,\n",
              "        1.29972966e-02, 3.43882932e-03, 9.27999282e-03, 7.03286210e-01,\n",
              "        1.91248515e-01, 5.94174360e-03, 1.90205495e-02, 3.74730350e-02],\n",
              "       [5.21129613e-02, 4.75731786e-04, 1.12222899e-03, 6.73545256e-04,\n",
              "        6.29958090e-03, 1.30236219e-03, 7.27122817e-03, 1.85967724e-02,\n",
              "        2.43749603e-03, 4.71425192e-04, 4.55835231e-01, 6.34276019e-03,\n",
              "        1.66767572e-04, 6.39069225e-04, 1.15051852e-03, 8.42561612e-01,\n",
              "        2.03198554e-01, 2.60357649e-03, 8.48528692e-03, 8.04219647e-03],\n",
              "       [2.55947985e-02, 2.80273605e-02, 4.92442575e-02, 7.24299348e-03,\n",
              "        1.67266657e-02, 4.52282651e-02, 1.22375416e-01, 2.44315274e-01,\n",
              "        6.27110769e-02, 1.53898932e-02, 8.74358326e-03, 3.63163387e-02,\n",
              "        5.12012054e-03, 1.79396073e-02, 3.42939555e-02, 1.50854752e-01,\n",
              "        4.25990321e-01, 4.78726462e-02, 4.76072763e-02, 3.11467180e-02],\n",
              "       [7.42202250e-03, 5.08347055e-02, 2.41143269e-02, 4.38763328e-03,\n",
              "        1.91792561e-02, 1.01198929e-01, 3.54317418e-02, 2.72771269e-02,\n",
              "        1.08392330e-01, 1.36049981e-01, 3.63920584e-03, 2.29528659e-02,\n",
              "        1.11231012e-02, 6.00227989e-02, 1.65303059e-01, 6.91099324e-02,\n",
              "        4.27442981e-01, 2.09770706e-01, 1.29424485e-02, 2.71058966e-02]])"
            ]
          },
          "metadata": {},
          "execution_count": 41
        }
      ],
      "source": [
        "train_pred_nb[:5]"
      ]
    },
    {
      "cell_type": "markdown",
      "metadata": {
        "id": "ph2xAWbFjLv5"
      },
      "source": [
        "The predictions are in terms of probabilities for each of the 20 tags. Hence we need to have a threshold value to convert these probabilities to 0 or 1.\n",
        "\n",
        "Let's specify a set of candidate threshold values. We will select the threshold value that performs the best for the train set."
      ]
    },
    {
      "cell_type": "code",
      "execution_count": 42,
      "metadata": {
        "id": "XNekipOiJmu6"
      },
      "outputs": [],
      "source": [
        "# Function for converting probabilities into classes or tags based on a threshold value\n",
        "def classify(pred_prob,threshold):\n",
        "  y_pred_seq = []\n",
        "\n",
        "  for i in pred_prob:\n",
        "    temp=[]\n",
        "    for j in i:\n",
        "      if j>=threshold:\n",
        "        temp.append(1)\n",
        "      else:\n",
        "        temp.append(0)\n",
        "    y_pred_seq.append(temp)\n",
        "\n",
        "  return y_pred_seq"
      ]
    },
    {
      "cell_type": "code",
      "execution_count": 43,
      "metadata": {
        "id": "pmU3rUVgTGdf"
      },
      "outputs": [],
      "source": [
        "# Function for finding optimum value of threshold\n",
        "def optimum_threshold(actual,pred_prob):\n",
        "  #define candidate threshold values\n",
        "  thresholds  = np.arange(0,0.5,0.01)\n",
        "\n",
        "  score=[]\n",
        "  for value in thresholds:\n",
        "    # Getting classes for each threshold\n",
        "    pred_classes= classify(pred_prob,value) \n",
        "    # Getting F1-score for every threshold\n",
        "    score.append(f1_score(actual,pred_classes,average=\"weighted\"))\n",
        "\n",
        "  return thresholds[score.index(max(score))]    "
      ]
    },
    {
      "cell_type": "code",
      "execution_count": 44,
      "metadata": {
        "colab": {
          "base_uri": "https://localhost:8080/"
        },
        "id": "HX1Fw6bOJouB",
        "outputId": "051931c0-d76a-4940-8616-fe03228bcb1f"
      },
      "outputs": [
        {
          "output_type": "stream",
          "name": "stdout",
          "text": [
            "Optimal threshold=> 0.19\n"
          ]
        }
      ],
      "source": [
        "# Finding Optimum value\n",
        "print(\"Optimal threshold=>\",optimum_threshold(y_tr,train_pred_nb))"
      ]
    },
    {
      "cell_type": "code",
      "execution_count": 46,
      "metadata": {
        "id": "FTYj7s5dLhkS"
      },
      "outputs": [],
      "source": [
        "# Getting classes using optimum threshold\n",
        "train_pred_nb_class=classify(train_pred_nb,0.19)"
      ]
    },
    {
      "cell_type": "code",
      "execution_count": 47,
      "metadata": {
        "colab": {
          "base_uri": "https://localhost:8080/"
        },
        "id": "SPveC9zuLpWF",
        "outputId": "49cbc289-56cb-443d-fd4c-d944890bb534"
      },
      "outputs": [
        {
          "output_type": "execute_result",
          "data": {
            "text/plain": [
              "[[0, 0, 0, 0, 0, 0, 0, 0, 0, 0, 0, 0, 0, 0, 0, 1, 1, 0, 0, 1],\n",
              " [0, 0, 0, 0, 0, 0, 0, 0, 1, 0, 0, 0, 0, 0, 0, 1, 1, 0, 0, 0],\n",
              " [0, 0, 0, 0, 0, 0, 0, 0, 0, 0, 1, 0, 0, 0, 0, 1, 1, 0, 0, 0],\n",
              " [0, 0, 0, 0, 0, 0, 0, 1, 0, 0, 0, 0, 0, 0, 0, 0, 1, 0, 0, 0],\n",
              " [0, 0, 0, 0, 0, 0, 0, 0, 0, 0, 0, 0, 0, 0, 0, 0, 1, 1, 0, 0]]"
            ]
          },
          "metadata": {},
          "execution_count": 47
        }
      ],
      "source": [
        "train_pred_nb_class[:5]"
      ]
    },
    {
      "cell_type": "code",
      "execution_count": 48,
      "metadata": {
        "colab": {
          "base_uri": "https://localhost:8080/"
        },
        "id": "QNg5ggPR3Hgx",
        "outputId": "a6cfe3ff-07fe-4e46-b32f-9355f8b57e9c"
      },
      "outputs": [
        {
          "output_type": "execute_result",
          "data": {
            "text/plain": [
              "[('r', 'regression', 'time series'),\n",
              " ('machine learning', 'r', 'regression'),\n",
              " ('mixed model', 'r', 'regression'),\n",
              " ('logistic', 'regression'),\n",
              " ('regression', 'self study')]"
            ]
          },
          "metadata": {},
          "execution_count": 48
        }
      ],
      "source": [
        "mlb.inverse_transform(np.array(train_pred_nb_class[:5]))"
      ]
    },
    {
      "cell_type": "code",
      "execution_count": 49,
      "metadata": {
        "colab": {
          "base_uri": "https://localhost:8080/"
        },
        "id": "FzplvYVb6paB",
        "outputId": "5addfc72-f917-4f94-eba2-55065661b545"
      },
      "outputs": [
        {
          "output_type": "stream",
          "name": "stdout",
          "text": [
            "F1-score on Train Set: 0.603040537907899\n"
          ]
        }
      ],
      "source": [
        "# Evaluating on Training Set\n",
        "print(\"F1-score on Train Set:\",f1_score(y_tr,train_pred_nb_class,average=\"weighted\"))"
      ]
    },
    {
      "cell_type": "code",
      "execution_count": 51,
      "metadata": {
        "colab": {
          "base_uri": "https://localhost:8080/"
        },
        "id": "pMBSaQJM7HNK",
        "outputId": "8dfb5fa0-dd90-4bee-b898-4339e0aac77f"
      },
      "outputs": [
        {
          "output_type": "stream",
          "name": "stdout",
          "text": [
            "F1-score on Validation Set: 0.5470589813343284\n"
          ]
        }
      ],
      "source": [
        "# Make Predictions on Validation Set\n",
        "val_pred_nb=nb_model.predict_proba(test_word_features)\n",
        "\n",
        "# Getting Classes\n",
        "val_pred_nb_class=classify(val_pred_nb,0.19)\n",
        "\n",
        "# Evaluating on Validation Set\n",
        "print(\"F1-score on Validation Set:\",f1_score(y_val,val_pred_nb_class,average=\"weighted\"))"
      ]
    },
    {
      "cell_type": "markdown",
      "metadata": {
        "id": "wIz1YkaJ9-x9"
      },
      "source": [
        "## Logistic Regression"
      ]
    },
    {
      "cell_type": "code",
      "execution_count": 52,
      "metadata": {
        "id": "7SEFnT4h9UyF"
      },
      "outputs": [],
      "source": [
        "from sklearn.linear_model import LogisticRegression"
      ]
    },
    {
      "cell_type": "code",
      "execution_count": 53,
      "metadata": {
        "colab": {
          "base_uri": "https://localhost:8080/"
        },
        "id": "He7ZNuuLBWmY",
        "outputId": "6ce56964-5cbe-48fc-d9aa-f3066a0818cb"
      },
      "outputs": [
        {
          "output_type": "execute_result",
          "data": {
            "text/plain": [
              "OneVsRestClassifier(estimator=LogisticRegression())"
            ]
          },
          "metadata": {},
          "execution_count": 53
        }
      ],
      "source": [
        "# Defining Model\n",
        "lr_model=OneVsRestClassifier(LogisticRegression())\n",
        "\n",
        "# Training Model\n",
        "lr_model.fit(train_word_features,y_tr)"
      ]
    },
    {
      "cell_type": "code",
      "execution_count": 54,
      "metadata": {
        "id": "RJVt_3iFXQ5q"
      },
      "outputs": [],
      "source": [
        "# Make Predictions on Train Set\n",
        "train_pred_lr=lr_model.predict_proba(train_word_features)"
      ]
    },
    {
      "cell_type": "code",
      "execution_count": 55,
      "metadata": {
        "colab": {
          "base_uri": "https://localhost:8080/"
        },
        "id": "0VM92nZlXcBc",
        "outputId": "539856c4-ef22-4d15-f84a-119dfda6fc8b"
      },
      "outputs": [
        {
          "output_type": "execute_result",
          "data": {
            "text/plain": [
              "array([[0.02232066, 0.02437395, 0.01205742, 0.02121636, 0.02757488,\n",
              "        0.01359249, 0.07287913, 0.01479795, 0.05802962, 0.04228092,\n",
              "        0.0231282 , 0.01721852, 0.01569654, 0.0109303 , 0.02453161,\n",
              "        0.53324371, 0.16421499, 0.06501881, 0.03638357, 0.99027601],\n",
              "       [0.05956202, 0.01805246, 0.04287631, 0.01613613, 0.01507844,\n",
              "        0.00817473, 0.04438653, 0.04625617, 0.45426204, 0.01418559,\n",
              "        0.02894936, 0.02097675, 0.04528465, 0.01213117, 0.01502465,\n",
              "        0.87893967, 0.23480989, 0.02554664, 0.0370895 , 0.03655322],\n",
              "       [0.11210599, 0.00626056, 0.00794955, 0.01954793, 0.03789541,\n",
              "        0.00668734, 0.01667922, 0.01424425, 0.00587191, 0.00476268,\n",
              "        0.95939482, 0.01760574, 0.00672746, 0.00737833, 0.00560277,\n",
              "        0.84066708, 0.11672936, 0.01821074, 0.03763426, 0.02329905],\n",
              "       [0.02236576, 0.02481519, 0.05332397, 0.00717125, 0.01414123,\n",
              "        0.0452816 , 0.32298003, 0.80088649, 0.040129  , 0.03515908,\n",
              "        0.00840884, 0.07061227, 0.00860896, 0.02892267, 0.02480659,\n",
              "        0.06277828, 0.46303152, 0.07006467, 0.06856709, 0.01911003],\n",
              "       [0.02098418, 0.04386653, 0.04937674, 0.01518977, 0.02827081,\n",
              "        0.08375922, 0.02737287, 0.03312345, 0.20283313, 0.15575983,\n",
              "        0.00733022, 0.03760286, 0.03301016, 0.0531248 , 0.14090103,\n",
              "        0.12870578, 0.70094958, 0.11261801, 0.02340112, 0.03583557]])"
            ]
          },
          "metadata": {},
          "execution_count": 55
        }
      ],
      "source": [
        "train_pred_lr[:5]"
      ]
    },
    {
      "cell_type": "code",
      "execution_count": 56,
      "metadata": {
        "colab": {
          "base_uri": "https://localhost:8080/"
        },
        "id": "U8qC4ShWXx_e",
        "outputId": "2f344073-965e-4658-a375-f147d5534c43"
      },
      "outputs": [
        {
          "output_type": "stream",
          "name": "stdout",
          "text": [
            "Optimal threshold=> 0.25\n"
          ]
        }
      ],
      "source": [
        "# Finding Optimum value\n",
        "print(\"Optimal threshold=>\",optimum_threshold(y_tr,train_pred_lr))"
      ]
    },
    {
      "cell_type": "code",
      "execution_count": 57,
      "metadata": {
        "colab": {
          "base_uri": "https://localhost:8080/"
        },
        "id": "p_MDwww4X2bo",
        "outputId": "f4405f2a-6f88-4f03-a5d5-4c6fab546a25"
      },
      "outputs": [
        {
          "output_type": "execute_result",
          "data": {
            "text/plain": [
              "[[0, 0, 0, 0, 0, 0, 0, 0, 0, 0, 0, 0, 0, 0, 0, 1, 0, 0, 0, 1],\n",
              " [0, 0, 0, 0, 0, 0, 0, 0, 1, 0, 0, 0, 0, 0, 0, 1, 0, 0, 0, 0],\n",
              " [0, 0, 0, 0, 0, 0, 0, 0, 0, 0, 1, 0, 0, 0, 0, 1, 0, 0, 0, 0],\n",
              " [0, 0, 0, 0, 0, 0, 1, 1, 0, 0, 0, 0, 0, 0, 0, 0, 1, 0, 0, 0],\n",
              " [0, 0, 0, 0, 0, 0, 0, 0, 0, 0, 0, 0, 0, 0, 0, 0, 1, 0, 0, 0]]"
            ]
          },
          "metadata": {},
          "execution_count": 57
        }
      ],
      "source": [
        "# Getting classes using optimum threshold\n",
        "train_pred_lr_class=classify(train_pred_lr,0.25)\n",
        "train_pred_lr_class[:5]"
      ]
    },
    {
      "cell_type": "code",
      "execution_count": 58,
      "metadata": {
        "colab": {
          "base_uri": "https://localhost:8080/"
        },
        "id": "cDj0AFmsYWn7",
        "outputId": "64f37803-b92b-4a95-abac-724c7099e5b9"
      },
      "outputs": [
        {
          "output_type": "stream",
          "name": "stdout",
          "text": [
            "F1-score on Train Set: 0.7463131200357592\n"
          ]
        }
      ],
      "source": [
        "# Evaluating on Training Set\n",
        "print(\"F1-score on Train Set:\",f1_score(y_tr,train_pred_lr_class,average=\"weighted\"))"
      ]
    },
    {
      "cell_type": "code",
      "execution_count": 59,
      "metadata": {
        "colab": {
          "base_uri": "https://localhost:8080/"
        },
        "id": "lTlcubCcYepV",
        "outputId": "3047de8f-1478-49ad-c65a-894b5320787d"
      },
      "outputs": [
        {
          "output_type": "stream",
          "name": "stdout",
          "text": [
            "F1-score on Validation Set: 0.6732004042658751\n"
          ]
        }
      ],
      "source": [
        "# Make Predictions on Validation Set\n",
        "val_pred_lr=lr_model.predict_proba(test_word_features)\n",
        "\n",
        "# Getting Classes\n",
        "val_pred_lr_class=classify(val_pred_lr,0.25)\n",
        "\n",
        "# Evaluating on Validation Set\n",
        "print(\"F1-score on Validation Set:\",f1_score(y_val,val_pred_lr_class,average=\"weighted\"))"
      ]
    },
    {
      "cell_type": "markdown",
      "metadata": {
        "id": "mCQinBPsYsam"
      },
      "source": [
        "## Model Building Summary\n",
        "|        Model        | Train Set | Validation Set |\n",
        "|:-------------------:|:---------:|:--------------:|\n",
        "|     Naive Bayes     |   0.6030  |     0.5470     |\n",
        "| Logistic Regression |   0.7463  |     0.6732     |\n",
        "\n",
        "It is evident from the results that Logistic Regression performs better than Naive Bayes."
      ]
    },
    {
      "cell_type": "markdown",
      "metadata": {
        "id": "YE06Tioubctf"
      },
      "source": [
        "# Final Question Tagging Pipeline"
      ]
    },
    {
      "cell_type": "code",
      "execution_count": 60,
      "metadata": {
        "id": "DNZt4B69ZxO-"
      },
      "outputs": [],
      "source": [
        "def tagging(question):\n",
        "  # Text Cleaning\n",
        "  cleaned_question=cleaner(question)\n",
        "  \n",
        "  # Feature Engineering\n",
        "  vector=word_vectorizer.transform([cleaned_question])\n",
        "  \n",
        "  # Predicting Probabilities\n",
        "  pred_prob=lr_model.predict_proba(vector)\n",
        "  \n",
        "  # Converting Probabilities into classes\n",
        "  pred_class=classify(pred_prob,0.34)\n",
        "\n",
        "  return mlb.inverse_transform(np.array(pred_class))"
      ]
    },
    {
      "cell_type": "code",
      "source": [
        "tagging(\"Is Machine learning good?\")"
      ],
      "metadata": {
        "colab": {
          "base_uri": "https://localhost:8080/"
        },
        "id": "GR_k34UQM6m0",
        "outputId": "c7395a2a-c772-4533-8e94-6c3a1c8ae47a"
      },
      "execution_count": 63,
      "outputs": [
        {
          "output_type": "execute_result",
          "data": {
            "text/plain": [
              "[('machine learning',)]"
            ]
          },
          "metadata": {},
          "execution_count": 63
        }
      ]
    }
  ],
  "metadata": {
    "colab": {
      "collapsed_sections": [],
      "name": "Project_ Auto tagging stack exchange questions.ipynb",
      "provenance": []
    },
    "kernelspec": {
      "display_name": "Python 3 (ipykernel)",
      "language": "python",
      "name": "python3"
    },
    "language_info": {
      "codemirror_mode": {
        "name": "ipython",
        "version": 3
      },
      "file_extension": ".py",
      "mimetype": "text/x-python",
      "name": "python",
      "nbconvert_exporter": "python",
      "pygments_lexer": "ipython3",
      "version": "3.9.7"
    }
  },
  "nbformat": 4,
  "nbformat_minor": 0
}